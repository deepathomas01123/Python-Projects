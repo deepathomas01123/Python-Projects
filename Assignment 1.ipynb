{
 "cells": [
  {
   "cell_type": "code",
   "execution_count": 1,
   "id": "8b1b8adf",
   "metadata": {},
   "outputs": [],
   "source": [
    "#importing packages\n",
    "import pandas as pd\n",
    "import matplotlib.pyplot as plt\n",
    "import seaborn as sns\n",
    "import warnings\n",
    "warnings.filterwarnings('ignore')"
   ]
  },
  {
   "cell_type": "code",
   "execution_count": 2,
   "id": "4f6ae093",
   "metadata": {},
   "outputs": [],
   "source": [
    "data1 = pd.read_excel(\"Emissions_weatherevents.xlsx\")\n",
    "data2 = pd.read_csv(\"Population_growth.csv\")"
   ]
  },
  {
   "cell_type": "code",
   "execution_count": 3,
   "id": "bce9d7de",
   "metadata": {},
   "outputs": [
    {
     "data": {
      "text/html": [
       "<div>\n",
       "<style scoped>\n",
       "    .dataframe tbody tr th:only-of-type {\n",
       "        vertical-align: middle;\n",
       "    }\n",
       "\n",
       "    .dataframe tbody tr th {\n",
       "        vertical-align: top;\n",
       "    }\n",
       "\n",
       "    .dataframe thead th {\n",
       "        text-align: right;\n",
       "    }\n",
       "</style>\n",
       "<table border=\"1\" class=\"dataframe\">\n",
       "  <thead>\n",
       "    <tr style=\"text-align: right;\">\n",
       "      <th></th>\n",
       "      <th>Country Code</th>\n",
       "      <th>Country name</th>\n",
       "      <th>Series code</th>\n",
       "      <th>CO2 emissions, total (KtCO2)</th>\n",
       "      <th>Total greenhouse gas emissions (% change from 1990)</th>\n",
       "      <th>Droughts, floods, extreme temps (% pop. avg. 1990-2009)</th>\n",
       "    </tr>\n",
       "  </thead>\n",
       "  <tbody>\n",
       "    <tr>\n",
       "      <th>0</th>\n",
       "      <td>ABW</td>\n",
       "      <td>Aruba</td>\n",
       "      <td>EN.ATM.CO2E.KT</td>\n",
       "      <td>2013.955000</td>\n",
       "      <td>NaN</td>\n",
       "      <td>NaN</td>\n",
       "    </tr>\n",
       "    <tr>\n",
       "      <th>1</th>\n",
       "      <td>ADO</td>\n",
       "      <td>Andorra</td>\n",
       "      <td>EN.ATM.CO2E.KT</td>\n",
       "      <td>512.070357</td>\n",
       "      <td>NaN</td>\n",
       "      <td>NaN</td>\n",
       "    </tr>\n",
       "    <tr>\n",
       "      <th>2</th>\n",
       "      <td>AFG</td>\n",
       "      <td>Afghanistan</td>\n",
       "      <td>EN.ATM.CO2E.KT</td>\n",
       "      <td>1092.766000</td>\n",
       "      <td>11.476205</td>\n",
       "      <td>1.059290</td>\n",
       "    </tr>\n",
       "    <tr>\n",
       "      <th>3</th>\n",
       "      <td>AGO</td>\n",
       "      <td>Angola</td>\n",
       "      <td>EN.ATM.CO2E.KT</td>\n",
       "      <td>11526.346000</td>\n",
       "      <td>-21.574367</td>\n",
       "      <td>1.011765</td>\n",
       "    </tr>\n",
       "    <tr>\n",
       "      <th>4</th>\n",
       "      <td>ALB</td>\n",
       "      <td>Albania</td>\n",
       "      <td>EN.ATM.CO2E.KT</td>\n",
       "      <td>3384.641000</td>\n",
       "      <td>-33.026241</td>\n",
       "      <td>5.269577</td>\n",
       "    </tr>\n",
       "  </tbody>\n",
       "</table>\n",
       "</div>"
      ],
      "text/plain": [
       "  Country Code Country name     Series code  CO2 emissions, total (KtCO2)  \\\n",
       "0          ABW        Aruba  EN.ATM.CO2E.KT                   2013.955000   \n",
       "1          ADO      Andorra  EN.ATM.CO2E.KT                    512.070357   \n",
       "2          AFG  Afghanistan  EN.ATM.CO2E.KT                   1092.766000   \n",
       "3          AGO       Angola  EN.ATM.CO2E.KT                  11526.346000   \n",
       "4          ALB      Albania  EN.ATM.CO2E.KT                   3384.641000   \n",
       "\n",
       "   Total greenhouse gas emissions (% change from 1990)  \\\n",
       "0                                                NaN     \n",
       "1                                                NaN     \n",
       "2                                          11.476205     \n",
       "3                                         -21.574367     \n",
       "4                                         -33.026241     \n",
       "\n",
       "   Droughts, floods, extreme temps (% pop. avg. 1990-2009)  \n",
       "0                                                NaN        \n",
       "1                                                NaN        \n",
       "2                                           1.059290        \n",
       "3                                           1.011765        \n",
       "4                                           5.269577        "
      ]
     },
     "execution_count": 3,
     "metadata": {},
     "output_type": "execute_result"
    }
   ],
   "source": [
    "data1.head()"
   ]
  },
  {
   "cell_type": "code",
   "execution_count": 4,
   "id": "62d1e14d",
   "metadata": {},
   "outputs": [
    {
     "data": {
      "text/plain": [
       "(233, 6)"
      ]
     },
     "execution_count": 4,
     "metadata": {},
     "output_type": "execute_result"
    }
   ],
   "source": [
    "data1.shape"
   ]
  },
  {
   "cell_type": "code",
   "execution_count": 5,
   "id": "a4924550",
   "metadata": {},
   "outputs": [
    {
     "data": {
      "text/html": [
       "<div>\n",
       "<style scoped>\n",
       "    .dataframe tbody tr th:only-of-type {\n",
       "        vertical-align: middle;\n",
       "    }\n",
       "\n",
       "    .dataframe tbody tr th {\n",
       "        vertical-align: top;\n",
       "    }\n",
       "\n",
       "    .dataframe thead th {\n",
       "        text-align: right;\n",
       "    }\n",
       "</style>\n",
       "<table border=\"1\" class=\"dataframe\">\n",
       "  <thead>\n",
       "    <tr style=\"text-align: right;\">\n",
       "      <th></th>\n",
       "      <th>Country Name</th>\n",
       "      <th>Country Code</th>\n",
       "      <th>Population growth %annual(1961-2022)</th>\n",
       "    </tr>\n",
       "  </thead>\n",
       "  <tbody>\n",
       "    <tr>\n",
       "      <th>0</th>\n",
       "      <td>Aruba</td>\n",
       "      <td>ABW</td>\n",
       "      <td>1.076529077</td>\n",
       "    </tr>\n",
       "    <tr>\n",
       "      <th>1</th>\n",
       "      <td>Africa Eastern and Southern</td>\n",
       "      <td>AFE</td>\n",
       "      <td>2.792535931</td>\n",
       "    </tr>\n",
       "    <tr>\n",
       "      <th>2</th>\n",
       "      <td>Afghanistan</td>\n",
       "      <td>AFG</td>\n",
       "      <td>2.519898029</td>\n",
       "    </tr>\n",
       "    <tr>\n",
       "      <th>3</th>\n",
       "      <td>Africa Western and Central</td>\n",
       "      <td>AFW</td>\n",
       "      <td>2.643783059</td>\n",
       "    </tr>\n",
       "    <tr>\n",
       "      <th>4</th>\n",
       "      <td>Angola</td>\n",
       "      <td>AGO</td>\n",
       "      <td>3.054186643</td>\n",
       "    </tr>\n",
       "  </tbody>\n",
       "</table>\n",
       "</div>"
      ],
      "text/plain": [
       "                  Country Name Country Code  \\\n",
       "0                        Aruba          ABW   \n",
       "1  Africa Eastern and Southern          AFE   \n",
       "2                  Afghanistan          AFG   \n",
       "3   Africa Western and Central          AFW   \n",
       "4                       Angola          AGO   \n",
       "\n",
       "  Population growth %annual(1961-2022)  \n",
       "0                          1.076529077  \n",
       "1                          2.792535931  \n",
       "2                          2.519898029  \n",
       "3                          2.643783059  \n",
       "4                          3.054186643  "
      ]
     },
     "execution_count": 5,
     "metadata": {},
     "output_type": "execute_result"
    }
   ],
   "source": [
    "data2.head()"
   ]
  },
  {
   "cell_type": "code",
   "execution_count": 6,
   "id": "9d3565e2",
   "metadata": {},
   "outputs": [
    {
     "data": {
      "text/plain": [
       "(266, 3)"
      ]
     },
     "execution_count": 6,
     "metadata": {},
     "output_type": "execute_result"
    }
   ],
   "source": [
    "data2.shape"
   ]
  },
  {
   "cell_type": "code",
   "execution_count": 7,
   "id": "fa6c39d8",
   "metadata": {},
   "outputs": [
    {
     "data": {
      "text/html": [
       "<div>\n",
       "<style scoped>\n",
       "    .dataframe tbody tr th:only-of-type {\n",
       "        vertical-align: middle;\n",
       "    }\n",
       "\n",
       "    .dataframe tbody tr th {\n",
       "        vertical-align: top;\n",
       "    }\n",
       "\n",
       "    .dataframe thead th {\n",
       "        text-align: right;\n",
       "    }\n",
       "</style>\n",
       "<table border=\"1\" class=\"dataframe\">\n",
       "  <thead>\n",
       "    <tr style=\"text-align: right;\">\n",
       "      <th></th>\n",
       "      <th>Country Code</th>\n",
       "      <th>Country name</th>\n",
       "      <th>Series code</th>\n",
       "      <th>CO2 emissions, total (KtCO2)</th>\n",
       "      <th>Total greenhouse gas emissions (% change from 1990)</th>\n",
       "      <th>Droughts, floods, extreme temps (% pop. avg. 1990-2009)</th>\n",
       "      <th>Country Name</th>\n",
       "      <th>Population growth %annual(1961-2022)</th>\n",
       "    </tr>\n",
       "  </thead>\n",
       "  <tbody>\n",
       "    <tr>\n",
       "      <th>0</th>\n",
       "      <td>ABW</td>\n",
       "      <td>Aruba</td>\n",
       "      <td>EN.ATM.CO2E.KT</td>\n",
       "      <td>2013.955</td>\n",
       "      <td>NaN</td>\n",
       "      <td>NaN</td>\n",
       "      <td>Aruba</td>\n",
       "      <td>1.076529077</td>\n",
       "    </tr>\n",
       "    <tr>\n",
       "      <th>1</th>\n",
       "      <td>AFG</td>\n",
       "      <td>Afghanistan</td>\n",
       "      <td>EN.ATM.CO2E.KT</td>\n",
       "      <td>1092.766</td>\n",
       "      <td>11.476205</td>\n",
       "      <td>1.059290</td>\n",
       "      <td>Afghanistan</td>\n",
       "      <td>2.519898029</td>\n",
       "    </tr>\n",
       "    <tr>\n",
       "      <th>2</th>\n",
       "      <td>AGO</td>\n",
       "      <td>Angola</td>\n",
       "      <td>EN.ATM.CO2E.KT</td>\n",
       "      <td>11526.346</td>\n",
       "      <td>-21.574367</td>\n",
       "      <td>1.011765</td>\n",
       "      <td>Angola</td>\n",
       "      <td>3.054186643</td>\n",
       "    </tr>\n",
       "    <tr>\n",
       "      <th>3</th>\n",
       "      <td>ALB</td>\n",
       "      <td>Albania</td>\n",
       "      <td>EN.ATM.CO2E.KT</td>\n",
       "      <td>3384.641</td>\n",
       "      <td>-33.026241</td>\n",
       "      <td>5.269577</td>\n",
       "      <td>Albania</td>\n",
       "      <td>0.879662307</td>\n",
       "    </tr>\n",
       "    <tr>\n",
       "      <th>4</th>\n",
       "      <td>ARE</td>\n",
       "      <td>United Arab Emirates</td>\n",
       "      <td>EN.ATM.CO2E.KT</td>\n",
       "      <td>87808.052</td>\n",
       "      <td>81.498282</td>\n",
       "      <td>NaN</td>\n",
       "      <td>United Arab Emirates</td>\n",
       "      <td>6.869812633</td>\n",
       "    </tr>\n",
       "  </tbody>\n",
       "</table>\n",
       "</div>"
      ],
      "text/plain": [
       "  Country Code          Country name     Series code  \\\n",
       "0          ABW                 Aruba  EN.ATM.CO2E.KT   \n",
       "1          AFG           Afghanistan  EN.ATM.CO2E.KT   \n",
       "2          AGO                Angola  EN.ATM.CO2E.KT   \n",
       "3          ALB               Albania  EN.ATM.CO2E.KT   \n",
       "4          ARE  United Arab Emirates  EN.ATM.CO2E.KT   \n",
       "\n",
       "   CO2 emissions, total (KtCO2)  \\\n",
       "0                      2013.955   \n",
       "1                      1092.766   \n",
       "2                     11526.346   \n",
       "3                      3384.641   \n",
       "4                     87808.052   \n",
       "\n",
       "   Total greenhouse gas emissions (% change from 1990)  \\\n",
       "0                                                NaN     \n",
       "1                                          11.476205     \n",
       "2                                         -21.574367     \n",
       "3                                         -33.026241     \n",
       "4                                          81.498282     \n",
       "\n",
       "   Droughts, floods, extreme temps (% pop. avg. 1990-2009)  \\\n",
       "0                                                NaN         \n",
       "1                                           1.059290         \n",
       "2                                           1.011765         \n",
       "3                                           5.269577         \n",
       "4                                                NaN         \n",
       "\n",
       "           Country Name Population growth %annual(1961-2022)  \n",
       "0                 Aruba                          1.076529077  \n",
       "1           Afghanistan                          2.519898029  \n",
       "2                Angola                          3.054186643  \n",
       "3               Albania                          0.879662307  \n",
       "4  United Arab Emirates                          6.869812633  "
      ]
     },
     "execution_count": 7,
     "metadata": {},
     "output_type": "execute_result"
    }
   ],
   "source": [
    "#Merging datasets\n",
    "final_data = pd.merge(data1,data2, on = 'Country Code', how = 'inner')\n",
    "final_data.head()"
   ]
  },
  {
   "cell_type": "code",
   "execution_count": 8,
   "id": "2d7d4e74",
   "metadata": {},
   "outputs": [
    {
     "data": {
      "text/plain": [
       "(222, 8)"
      ]
     },
     "execution_count": 8,
     "metadata": {},
     "output_type": "execute_result"
    }
   ],
   "source": [
    "final_data.shape"
   ]
  },
  {
   "cell_type": "code",
   "execution_count": 9,
   "id": "c3b75a59",
   "metadata": {},
   "outputs": [
    {
     "name": "stdout",
     "output_type": "stream",
     "text": [
      "<class 'pandas.core.frame.DataFrame'>\n",
      "Int64Index: 222 entries, 0 to 221\n",
      "Data columns (total 8 columns):\n",
      " #   Column                                                   Non-Null Count  Dtype  \n",
      "---  ------                                                   --------------  -----  \n",
      " 0   Country Code                                             222 non-null    object \n",
      " 1   Country name                                             222 non-null    object \n",
      " 2   Series code                                              222 non-null    object \n",
      " 3   CO2 emissions, total (KtCO2)                             208 non-null    float64\n",
      " 4   Total greenhouse gas emissions (% change from 1990)      199 non-null    float64\n",
      " 5   Droughts, floods, extreme temps (% pop. avg. 1990-2009)  155 non-null    float64\n",
      " 6   Country Name                                             222 non-null    object \n",
      " 7   Population growth %annual(1961-2022)                     222 non-null    object \n",
      "dtypes: float64(3), object(5)\n",
      "memory usage: 15.6+ KB\n"
     ]
    }
   ],
   "source": [
    "#Cleaning data\n",
    "final_data.info()"
   ]
  },
  {
   "cell_type": "code",
   "execution_count": 10,
   "id": "a1592a74",
   "metadata": {},
   "outputs": [
    {
     "data": {
      "text/plain": [
       "Index(['Country Code', 'Country name', 'Series code',\n",
       "       'CO2 emissions, total (KtCO2)',\n",
       "       'Total greenhouse gas emissions (% change from 1990)',\n",
       "       'Droughts, floods, extreme temps (% pop. avg. 1990-2009)',\n",
       "       'Country Name', 'Population growth %annual(1961-2022)'],\n",
       "      dtype='object')"
      ]
     },
     "execution_count": 10,
     "metadata": {},
     "output_type": "execute_result"
    }
   ],
   "source": [
    "final_data.columns"
   ]
  },
  {
   "cell_type": "code",
   "execution_count": 170,
   "id": "d624d244",
   "metadata": {},
   "outputs": [],
   "source": [
    "#Remving white spaces before and after column names\n",
    "final_data.columns = final_data.columns.str.strip()"
   ]
  },
  {
   "cell_type": "code",
   "execution_count": 11,
   "id": "3225fc7c",
   "metadata": {},
   "outputs": [
    {
     "data": {
      "text/html": [
       "<div>\n",
       "<style scoped>\n",
       "    .dataframe tbody tr th:only-of-type {\n",
       "        vertical-align: middle;\n",
       "    }\n",
       "\n",
       "    .dataframe tbody tr th {\n",
       "        vertical-align: top;\n",
       "    }\n",
       "\n",
       "    .dataframe thead th {\n",
       "        text-align: right;\n",
       "    }\n",
       "</style>\n",
       "<table border=\"1\" class=\"dataframe\">\n",
       "  <thead>\n",
       "    <tr style=\"text-align: right;\">\n",
       "      <th></th>\n",
       "      <th>country_code</th>\n",
       "      <th>country_name</th>\n",
       "      <th>series_code</th>\n",
       "      <th>CO2_emissions</th>\n",
       "      <th>greenhouse_emissions</th>\n",
       "      <th>extreme_events</th>\n",
       "      <th>country_name1</th>\n",
       "      <th>population_growth</th>\n",
       "    </tr>\n",
       "  </thead>\n",
       "  <tbody>\n",
       "    <tr>\n",
       "      <th>214</th>\n",
       "      <td>VNM</td>\n",
       "      <td>Vietnam</td>\n",
       "      <td>EN.ATM.CO2E.KT</td>\n",
       "      <td>58653.279</td>\n",
       "      <td>93.459617</td>\n",
       "      <td>1.599362</td>\n",
       "      <td>Vietnam</td>\n",
       "      <td>1.77247239</td>\n",
       "    </tr>\n",
       "    <tr>\n",
       "      <th>140</th>\n",
       "      <td>MNP</td>\n",
       "      <td>Northern Mariana Islands</td>\n",
       "      <td>EN.ATM.CO2E.KT</td>\n",
       "      <td>NaN</td>\n",
       "      <td>76.662002</td>\n",
       "      <td>NaN</td>\n",
       "      <td>Northern Mariana Islands</td>\n",
       "      <td>2.805563803</td>\n",
       "    </tr>\n",
       "    <tr>\n",
       "      <th>40</th>\n",
       "      <td>COM</td>\n",
       "      <td>Comoros</td>\n",
       "      <td>EN.ATM.CO2E.KT</td>\n",
       "      <td>89.166</td>\n",
       "      <td>38.928242</td>\n",
       "      <td>0.022191</td>\n",
       "      <td>Comoros</td>\n",
       "      <td>2.35050601</td>\n",
       "    </tr>\n",
       "    <tr>\n",
       "      <th>26</th>\n",
       "      <td>BRB</td>\n",
       "      <td>Barbados</td>\n",
       "      <td>EN.ATM.CO2E.KT</td>\n",
       "      <td>1141.209</td>\n",
       "      <td>1.768763</td>\n",
       "      <td>NaN</td>\n",
       "      <td>Barbados</td>\n",
       "      <td>0.308881695</td>\n",
       "    </tr>\n",
       "    <tr>\n",
       "      <th>143</th>\n",
       "      <td>MUS</td>\n",
       "      <td>Mauritius</td>\n",
       "      <td>EN.ATM.CO2E.KT</td>\n",
       "      <td>2558.987</td>\n",
       "      <td>8.062041</td>\n",
       "      <td>NaN</td>\n",
       "      <td>Mauritius</td>\n",
       "      <td>1.005910416</td>\n",
       "    </tr>\n",
       "  </tbody>\n",
       "</table>\n",
       "</div>"
      ],
      "text/plain": [
       "    country_code              country_name     series_code  CO2_emissions  \\\n",
       "214          VNM                   Vietnam  EN.ATM.CO2E.KT      58653.279   \n",
       "140          MNP  Northern Mariana Islands  EN.ATM.CO2E.KT            NaN   \n",
       "40           COM                   Comoros  EN.ATM.CO2E.KT         89.166   \n",
       "26           BRB                  Barbados  EN.ATM.CO2E.KT       1141.209   \n",
       "143          MUS                 Mauritius  EN.ATM.CO2E.KT       2558.987   \n",
       "\n",
       "     greenhouse_emissions  extreme_events             country_name1  \\\n",
       "214             93.459617        1.599362                   Vietnam   \n",
       "140             76.662002             NaN  Northern Mariana Islands   \n",
       "40              38.928242        0.022191                   Comoros   \n",
       "26               1.768763             NaN                  Barbados   \n",
       "143              8.062041             NaN                 Mauritius   \n",
       "\n",
       "    population_growth  \n",
       "214        1.77247239  \n",
       "140       2.805563803  \n",
       "40         2.35050601  \n",
       "26        0.308881695  \n",
       "143       1.005910416  "
      ]
     },
     "execution_count": 11,
     "metadata": {},
     "output_type": "execute_result"
    }
   ],
   "source": [
    "#Renaming columns\n",
    "columns_mapping ={\n",
    "    'Country Code': 'country_code',\n",
    "     'Country name': 'country_name',\n",
    "    'Series code':'series_code',\n",
    "    'CO2 emissions, total (KtCO2)':'CO2_emissions',\n",
    "    'Total greenhouse gas emissions (% change from 1990)':'greenhouse_emissions',\n",
    "    'Droughts, floods, extreme temps (% pop. avg. 1990-2009)':'extreme_events',\n",
    "    'Country Name':'country_name1',\n",
    "    'Population growth %annual(1961-2022)':'population_growth'\n",
    "}\n",
    "final_data = final_data.rename(columns = columns_mapping)\n",
    "final_data.sample(5, random_state = 999)"
   ]
  },
  {
   "cell_type": "code",
   "execution_count": 12,
   "id": "2e1ca2b4",
   "metadata": {},
   "outputs": [],
   "source": [
    "final_data['population_growth'] = final_data['population_growth'].astype('float')"
   ]
  },
  {
   "cell_type": "code",
   "execution_count": 13,
   "id": "a5ea752d",
   "metadata": {},
   "outputs": [],
   "source": [
    "#dropping unwanted or duplicate columns\n",
    "final_data.drop(columns = ['series_code','country_name1'], inplace= True)"
   ]
  },
  {
   "cell_type": "code",
   "execution_count": 14,
   "id": "14322b2f",
   "metadata": {},
   "outputs": [
    {
     "data": {
      "text/html": [
       "<div>\n",
       "<style scoped>\n",
       "    .dataframe tbody tr th:only-of-type {\n",
       "        vertical-align: middle;\n",
       "    }\n",
       "\n",
       "    .dataframe tbody tr th {\n",
       "        vertical-align: top;\n",
       "    }\n",
       "\n",
       "    .dataframe thead th {\n",
       "        text-align: right;\n",
       "    }\n",
       "</style>\n",
       "<table border=\"1\" class=\"dataframe\">\n",
       "  <thead>\n",
       "    <tr style=\"text-align: right;\">\n",
       "      <th></th>\n",
       "      <th>country_code</th>\n",
       "      <th>country_name</th>\n",
       "      <th>CO2_emissions</th>\n",
       "      <th>greenhouse_emissions</th>\n",
       "      <th>extreme_events</th>\n",
       "      <th>population_growth</th>\n",
       "    </tr>\n",
       "  </thead>\n",
       "  <tbody>\n",
       "    <tr>\n",
       "      <th>0</th>\n",
       "      <td>ABW</td>\n",
       "      <td>Aruba</td>\n",
       "      <td>2013.955</td>\n",
       "      <td>NaN</td>\n",
       "      <td>NaN</td>\n",
       "      <td>1.076529</td>\n",
       "    </tr>\n",
       "    <tr>\n",
       "      <th>1</th>\n",
       "      <td>AFG</td>\n",
       "      <td>Afghanistan</td>\n",
       "      <td>1092.766</td>\n",
       "      <td>11.476205</td>\n",
       "      <td>1.059290</td>\n",
       "      <td>2.519898</td>\n",
       "    </tr>\n",
       "    <tr>\n",
       "      <th>2</th>\n",
       "      <td>AGO</td>\n",
       "      <td>Angola</td>\n",
       "      <td>11526.346</td>\n",
       "      <td>-21.574367</td>\n",
       "      <td>1.011765</td>\n",
       "      <td>3.054187</td>\n",
       "    </tr>\n",
       "    <tr>\n",
       "      <th>3</th>\n",
       "      <td>ALB</td>\n",
       "      <td>Albania</td>\n",
       "      <td>3384.641</td>\n",
       "      <td>-33.026241</td>\n",
       "      <td>5.269577</td>\n",
       "      <td>0.879662</td>\n",
       "    </tr>\n",
       "    <tr>\n",
       "      <th>4</th>\n",
       "      <td>ARE</td>\n",
       "      <td>United Arab Emirates</td>\n",
       "      <td>87808.052</td>\n",
       "      <td>81.498282</td>\n",
       "      <td>NaN</td>\n",
       "      <td>6.869813</td>\n",
       "    </tr>\n",
       "  </tbody>\n",
       "</table>\n",
       "</div>"
      ],
      "text/plain": [
       "  country_code          country_name  CO2_emissions  greenhouse_emissions  \\\n",
       "0          ABW                 Aruba       2013.955                   NaN   \n",
       "1          AFG           Afghanistan       1092.766             11.476205   \n",
       "2          AGO                Angola      11526.346            -21.574367   \n",
       "3          ALB               Albania       3384.641            -33.026241   \n",
       "4          ARE  United Arab Emirates      87808.052             81.498282   \n",
       "\n",
       "   extreme_events  population_growth  \n",
       "0             NaN           1.076529  \n",
       "1        1.059290           2.519898  \n",
       "2        1.011765           3.054187  \n",
       "3        5.269577           0.879662  \n",
       "4             NaN           6.869813  "
      ]
     },
     "execution_count": 14,
     "metadata": {},
     "output_type": "execute_result"
    }
   ],
   "source": [
    "final_data.head()"
   ]
  },
  {
   "cell_type": "code",
   "execution_count": 15,
   "id": "f01b2f1c",
   "metadata": {},
   "outputs": [
    {
     "data": {
      "text/plain": [
       "country_code             0\n",
       "country_name             0\n",
       "CO2_emissions           14\n",
       "greenhouse_emissions    23\n",
       "extreme_events          67\n",
       "population_growth        0\n",
       "dtype: int64"
      ]
     },
     "execution_count": 15,
     "metadata": {},
     "output_type": "execute_result"
    }
   ],
   "source": [
    "#missing values\n",
    "final_data.isnull().sum()"
   ]
  },
  {
   "cell_type": "code",
   "execution_count": 16,
   "id": "7d71b142",
   "metadata": {},
   "outputs": [
    {
     "data": {
      "text/plain": [
       "(222, 6)"
      ]
     },
     "execution_count": 16,
     "metadata": {},
     "output_type": "execute_result"
    }
   ],
   "source": [
    "final_data.shape"
   ]
  },
  {
   "cell_type": "code",
   "execution_count": 17,
   "id": "4fc0f9ee",
   "metadata": {},
   "outputs": [],
   "source": [
    "final_data = final_data.fillna(0)"
   ]
  },
  {
   "cell_type": "code",
   "execution_count": 18,
   "id": "97990fc3",
   "metadata": {},
   "outputs": [
    {
     "data": {
      "text/plain": [
       "country_code            0\n",
       "country_name            0\n",
       "CO2_emissions           0\n",
       "greenhouse_emissions    0\n",
       "extreme_events          0\n",
       "population_growth       0\n",
       "dtype: int64"
      ]
     },
     "execution_count": 18,
     "metadata": {},
     "output_type": "execute_result"
    }
   ],
   "source": [
    "final_data.isnull().sum()"
   ]
  },
  {
   "cell_type": "code",
   "execution_count": 19,
   "id": "c2a4713c",
   "metadata": {},
   "outputs": [
    {
     "name": "stdout",
     "output_type": "stream",
     "text": [
      "<class 'pandas.core.frame.DataFrame'>\n",
      "Int64Index: 222 entries, 0 to 221\n",
      "Data columns (total 6 columns):\n",
      " #   Column                Non-Null Count  Dtype  \n",
      "---  ------                --------------  -----  \n",
      " 0   country_code          222 non-null    object \n",
      " 1   country_name          222 non-null    object \n",
      " 2   CO2_emissions         222 non-null    float64\n",
      " 3   greenhouse_emissions  222 non-null    float64\n",
      " 4   extreme_events        222 non-null    float64\n",
      " 5   population_growth     222 non-null    float64\n",
      "dtypes: float64(4), object(2)\n",
      "memory usage: 12.1+ KB\n"
     ]
    }
   ],
   "source": [
    "final_data.info()"
   ]
  },
  {
   "cell_type": "code",
   "execution_count": 20,
   "id": "3e6259c4",
   "metadata": {},
   "outputs": [
    {
     "data": {
      "image/png": "[encoded data removed]",
      "text/plain": [
       "<Figure size 1800x400 with 4 Axes>"
      ]
     },
     "metadata": {},
     "output_type": "display_data"
    }
   ],
   "source": [
    "#check for outliers\n",
    "columns = ['CO2_emissions','greenhouse_emissions','extreme_events','population_growth']\n",
    "i=1\n",
    "plt.figure(figsize =(18,4))\n",
    "for col in columns:\n",
    "    plt.subplot(1,4,i)\n",
    "    sns.boxplot(y=col,data = final_data)\n",
    "    i +=1   "
   ]
  },
  {
   "cell_type": "code",
   "execution_count": 21,
   "id": "6e129d78",
   "metadata": {},
   "outputs": [],
   "source": [
    "from scipy.stats import boxcox\n",
    "import numpy as np\n",
    "\n",
    "# List of columns with outliers and potential negative values\n",
    "columns_to_transform = ['CO2_emissions','greenhouse_emissions','extreme_events']\n",
    "\n",
    "# Apply Box-Cox transformation to each column\n",
    "for col in columns_to_transform:\n",
    "    shift_constant = abs(final_data[col].min()) + 1\n",
    "    transformed_data, lambda_value = boxcox(final_data[col] + shift_constant)\n",
    "    final_data[f'{col}'] = transformed_data\n"
   ]
  },
  {
   "cell_type": "code",
   "execution_count": 22,
   "id": "fa8aa659",
   "metadata": {},
   "outputs": [
    {
     "data": {
      "text/html": [
       "<div>\n",
       "<style scoped>\n",
       "    .dataframe tbody tr th:only-of-type {\n",
       "        vertical-align: middle;\n",
       "    }\n",
       "\n",
       "    .dataframe tbody tr th {\n",
       "        vertical-align: top;\n",
       "    }\n",
       "\n",
       "    .dataframe thead th {\n",
       "        text-align: right;\n",
       "    }\n",
       "</style>\n",
       "<table border=\"1\" class=\"dataframe\">\n",
       "  <thead>\n",
       "    <tr style=\"text-align: right;\">\n",
       "      <th></th>\n",
       "      <th>country_code</th>\n",
       "      <th>country_name</th>\n",
       "      <th>CO2_emissions</th>\n",
       "      <th>greenhouse_emissions</th>\n",
       "      <th>extreme_events</th>\n",
       "      <th>population_growth</th>\n",
       "    </tr>\n",
       "  </thead>\n",
       "  <tbody>\n",
       "    <tr>\n",
       "      <th>0</th>\n",
       "      <td>ABW</td>\n",
       "      <td>Aruba</td>\n",
       "      <td>8.878707</td>\n",
       "      <td>6.984749</td>\n",
       "      <td>0.000000</td>\n",
       "      <td>1.076529</td>\n",
       "    </tr>\n",
       "    <tr>\n",
       "      <th>1</th>\n",
       "      <td>AFG</td>\n",
       "      <td>Afghanistan</td>\n",
       "      <td>8.062851</td>\n",
       "      <td>7.436105</td>\n",
       "      <td>0.396659</td>\n",
       "      <td>2.519898</td>\n",
       "    </tr>\n",
       "    <tr>\n",
       "      <th>2</th>\n",
       "      <td>AGO</td>\n",
       "      <td>Angola</td>\n",
       "      <td>11.319306</td>\n",
       "      <td>5.927653</td>\n",
       "      <td>0.390460</td>\n",
       "      <td>3.054187</td>\n",
       "    </tr>\n",
       "    <tr>\n",
       "      <th>3</th>\n",
       "      <td>ALB</td>\n",
       "      <td>Albania</td>\n",
       "      <td>9.587351</td>\n",
       "      <td>5.178551</td>\n",
       "      <td>0.518404</td>\n",
       "      <td>0.879662</td>\n",
       "    </tr>\n",
       "    <tr>\n",
       "      <th>4</th>\n",
       "      <td>ARE</td>\n",
       "      <td>United Arab Emirates</td>\n",
       "      <td>14.381230</td>\n",
       "      <td>9.406156</td>\n",
       "      <td>0.000000</td>\n",
       "      <td>6.869813</td>\n",
       "    </tr>\n",
       "  </tbody>\n",
       "</table>\n",
       "</div>"
      ],
      "text/plain": [
       "  country_code          country_name  CO2_emissions  greenhouse_emissions  \\\n",
       "0          ABW                 Aruba       8.878707              6.984749   \n",
       "1          AFG           Afghanistan       8.062851              7.436105   \n",
       "2          AGO                Angola      11.319306              5.927653   \n",
       "3          ALB               Albania       9.587351              5.178551   \n",
       "4          ARE  United Arab Emirates      14.381230              9.406156   \n",
       "\n",
       "   extreme_events  population_growth  \n",
       "0        0.000000           1.076529  \n",
       "1        0.396659           2.519898  \n",
       "2        0.390460           3.054187  \n",
       "3        0.518404           0.879662  \n",
       "4        0.000000           6.869813  "
      ]
     },
     "execution_count": 22,
     "metadata": {},
     "output_type": "execute_result"
    }
   ],
   "source": [
    "final_data.head()"
   ]
  },
  {
   "cell_type": "code",
   "execution_count": 23,
   "id": "f5eefe91",
   "metadata": {},
   "outputs": [
    {
     "data": {
      "image/png": "[encoded data removed]",
      "text/plain": [
       "<Figure size 1800x400 with 4 Axes>"
      ]
     },
     "metadata": {},
     "output_type": "display_data"
    }
   ],
   "source": [
    "#check for outliers\n",
    "columns = ['CO2_emissions','greenhouse_emissions','extreme_events','population_growth']\n",
    "i=1\n",
    "plt.figure(figsize =(18,4))\n",
    "for col in columns:\n",
    "    plt.subplot(1,4,i)\n",
    "    sns.boxplot(y=col,data = final_data)\n",
    "    i +=1 "
   ]
  },
  {
   "cell_type": "markdown",
   "id": "12197aa0",
   "metadata": {},
   "source": [
    "### Data Modelling"
   ]
  },
  {
   "cell_type": "markdown",
   "id": "5ba03697",
   "metadata": {},
   "source": [
    "#### Scaling of features"
   ]
  },
  {
   "cell_type": "code",
   "execution_count": 25,
   "id": "1eb3072c",
   "metadata": {},
   "outputs": [],
   "source": [
    "from sklearn import preprocessing\n",
    "Data_df = final_data.copy()\n",
    "non_numerical_columns = ['country_code','country_name']\n",
    "data_for_scaling = Data_df.drop(columns = non_numerical_columns)\n",
    "\n",
    "Data_scaler = preprocessing.MinMaxScaler()\n",
    "scaled_data = Data_scaler.fit_transform(data_for_scaling)\n",
    "Data_df[data_for_scaling.columns] = scaled_data"
   ]
  },
  {
   "cell_type": "code",
   "execution_count": 26,
   "id": "ff5e20ff",
   "metadata": {},
   "outputs": [
    {
     "data": {
      "text/html": [
       "<div>\n",
       "<style scoped>\n",
       "    .dataframe tbody tr th:only-of-type {\n",
       "        vertical-align: middle;\n",
       "    }\n",
       "\n",
       "    .dataframe tbody tr th {\n",
       "        vertical-align: top;\n",
       "    }\n",
       "\n",
       "    .dataframe thead th {\n",
       "        text-align: right;\n",
       "    }\n",
       "</style>\n",
       "<table border=\"1\" class=\"dataframe\">\n",
       "  <thead>\n",
       "    <tr style=\"text-align: right;\">\n",
       "      <th></th>\n",
       "      <th>country_code</th>\n",
       "      <th>country_name</th>\n",
       "      <th>CO2_emissions</th>\n",
       "      <th>greenhouse_emissions</th>\n",
       "      <th>extreme_events</th>\n",
       "      <th>population_growth</th>\n",
       "    </tr>\n",
       "  </thead>\n",
       "  <tbody>\n",
       "    <tr>\n",
       "      <th>0</th>\n",
       "      <td>ABW</td>\n",
       "      <td>Aruba</td>\n",
       "      <td>0.364826</td>\n",
       "      <td>0.353639</td>\n",
       "      <td>0.000000</td>\n",
       "      <td>0.191888</td>\n",
       "    </tr>\n",
       "    <tr>\n",
       "      <th>1</th>\n",
       "      <td>AFG</td>\n",
       "      <td>Afghanistan</td>\n",
       "      <td>0.331302</td>\n",
       "      <td>0.376491</td>\n",
       "      <td>0.750059</td>\n",
       "      <td>0.390693</td>\n",
       "    </tr>\n",
       "    <tr>\n",
       "      <th>2</th>\n",
       "      <td>AGO</td>\n",
       "      <td>Angola</td>\n",
       "      <td>0.465110</td>\n",
       "      <td>0.300118</td>\n",
       "      <td>0.738338</td>\n",
       "      <td>0.464284</td>\n",
       "    </tr>\n",
       "    <tr>\n",
       "      <th>3</th>\n",
       "      <td>ALB</td>\n",
       "      <td>Albania</td>\n",
       "      <td>0.393944</td>\n",
       "      <td>0.262191</td>\n",
       "      <td>0.980272</td>\n",
       "      <td>0.164772</td>\n",
       "    </tr>\n",
       "    <tr>\n",
       "      <th>4</th>\n",
       "      <td>ARE</td>\n",
       "      <td>United Arab Emirates</td>\n",
       "      <td>0.590924</td>\n",
       "      <td>0.476235</td>\n",
       "      <td>0.000000</td>\n",
       "      <td>0.989835</td>\n",
       "    </tr>\n",
       "  </tbody>\n",
       "</table>\n",
       "</div>"
      ],
      "text/plain": [
       "  country_code          country_name  CO2_emissions  greenhouse_emissions  \\\n",
       "0          ABW                 Aruba       0.364826              0.353639   \n",
       "1          AFG           Afghanistan       0.331302              0.376491   \n",
       "2          AGO                Angola       0.465110              0.300118   \n",
       "3          ALB               Albania       0.393944              0.262191   \n",
       "4          ARE  United Arab Emirates       0.590924              0.476235   \n",
       "\n",
       "   extreme_events  population_growth  \n",
       "0        0.000000           0.191888  \n",
       "1        0.750059           0.390693  \n",
       "2        0.738338           0.464284  \n",
       "3        0.980272           0.164772  \n",
       "4        0.000000           0.989835  "
      ]
     },
     "execution_count": 26,
     "metadata": {},
     "output_type": "execute_result"
    }
   ],
   "source": [
    "Data_df.head()"
   ]
  },
  {
   "cell_type": "code",
   "execution_count": 27,
   "id": "3f68f4eb",
   "metadata": {},
   "outputs": [
    {
     "data": {
      "text/plain": [
       "(222, 6)"
      ]
     },
     "execution_count": 27,
     "metadata": {},
     "output_type": "execute_result"
    }
   ],
   "source": [
    "Data_df.shape"
   ]
  },
  {
   "cell_type": "markdown",
   "id": "f30d2ccd",
   "metadata": {},
   "source": [
    "### Corelation analysis"
   ]
  },
  {
   "cell_type": "code",
   "execution_count": 28,
   "id": "d3901103",
   "metadata": {},
   "outputs": [
    {
     "name": "stdout",
     "output_type": "stream",
     "text": [
      "extreme_events          1.000000\n",
      "population_growth       0.243258\n",
      "greenhouse_emissions    0.157569\n",
      "CO2_emissions           0.068085\n",
      "Name: extreme_events, dtype: float64\n"
     ]
    }
   ],
   "source": [
    "target_column = 'extreme_events'\n",
    "correlation_matrix = Data_df.corr()\n",
    "correlation_with_target = correlation_matrix[target_column]\n",
    "sorted_correlations = correlation_with_target.abs().sort_values(ascending = False)\n",
    "print(sorted_correlations)\n"
   ]
  },
  {
   "cell_type": "code",
   "execution_count": 29,
   "id": "b41dc093",
   "metadata": {},
   "outputs": [
    {
     "data": {
      "image/png": "[encoded data removed]",
      "text/plain": [
       "<Figure size 1000x800 with 2 Axes>"
      ]
     },
     "metadata": {},
     "output_type": "display_data"
    }
   ],
   "source": [
    "#Heatmap to visualise correlations\n",
    "plt.figure(figsize=(10,8))\n",
    "sns.heatmap(correlation_matrix,annot = True, cmap ='twilight_shifted',center = 0)\n",
    "plt.title('Correlation Heatmap')\n",
    "plt.show()"
   ]
  },
  {
   "cell_type": "code",
   "execution_count": null,
   "id": "fa46d8a1",
   "metadata": {},
   "outputs": [],
   "source": []
  },
  {
   "cell_type": "markdown",
   "id": "ce03a2ca",
   "metadata": {},
   "source": [
    "### Modelling using ML algorithms\n"
   ]
  },
  {
   "cell_type": "code",
   "execution_count": 30,
   "id": "3c718871",
   "metadata": {},
   "outputs": [
    {
     "data": {
      "image/png": "[encoded data removed]",
      "text/plain": [
       "<Figure size 1000x600 with 1 Axes>"
      ]
     },
     "metadata": {},
     "output_type": "display_data"
    },
    {
     "data": {
      "image/png": "[encoded data removed]",
      "text/plain": [
       "<Figure size 1000x600 with 1 Axes>"
      ]
     },
     "metadata": {},
     "output_type": "display_data"
    }
   ],
   "source": [
    "import pandas as pd\n",
    "from sklearn.model_selection import train_test_split\n",
    "from sklearn.ensemble import RandomForestRegressor\n",
    "from sklearn.linear_model import LinearRegression\n",
    "import matplotlib.pyplot as plt\n",
    "\n",
    "# Assuming Data_df is your DataFrame with features and target\n",
    "# Replace 'target_column' with the name of your target column\n",
    "target_column = 'extreme_events'\n",
    "\n",
    "data_for_ml = Data_df.drop(columns = non_numerical_columns)\n",
    "\n",
    "# Split data into features and target\n",
    "X = data_for_ml.drop(columns=[target_column])\n",
    "y = data_for_ml[target_column]\n",
    "\n",
    "# Split data into training and testing sets\n",
    "X_train, X_test, y_train, y_test = train_test_split(X, y, test_size=0.2, random_state=42)\n",
    "\n",
    "# Train a Random Forest Regressor\n",
    "rf_model = RandomForestRegressor(random_state=42)\n",
    "rf_model.fit(X_train, y_train)\n",
    "\n",
    "# Train a Linear Regression model\n",
    "lr_model = LinearRegression()\n",
    "lr_model.fit(X_train, y_train)\n",
    "\n",
    "# Get feature importances from Random Forest model\n",
    "rf_feature_importances = rf_model.feature_importances_\n",
    "\n",
    "# Get coefficients from Linear Regression model\n",
    "lr_coefficients = lr_model.coef_\n",
    "\n",
    "# Visualize feature importances\n",
    "plt.figure(figsize=(10, 6))\n",
    "plt.bar(X.columns, rf_feature_importances)\n",
    "plt.xticks(rotation=45)\n",
    "plt.xlabel('Features')\n",
    "plt.ylabel('Feature Importance')\n",
    "plt.title('Random Forest Feature Importance')\n",
    "plt.show()\n",
    "\n",
    "# Visualize coefficients from Linear Regression model\n",
    "plt.figure(figsize=(10, 6))\n",
    "plt.bar(X.columns, lr_coefficients)\n",
    "plt.xticks(rotation=45)\n",
    "plt.xlabel('Features')\n",
    "plt.ylabel('Coefficient Magnitude')\n",
    "plt.title('Linear Regression Coefficients')\n",
    "plt.show()\n"
   ]
  },
  {
   "cell_type": "code",
   "execution_count": 31,
   "id": "9ac835a9",
   "metadata": {},
   "outputs": [
    {
     "name": "stdout",
     "output_type": "stream",
     "text": [
      "Mean Squared Error: 0.17414025506065356\n"
     ]
    }
   ],
   "source": [
    "import pandas as pd\n",
    "from sklearn.model_selection import train_test_split\n",
    "from sklearn.svm import SVR\n",
    "from sklearn.metrics import mean_squared_error\n",
    "\n",
    "# Assuming Data_df is your DataFrame with features and target\n",
    "# Replace 'target_column' with the name of your target column\n",
    "target_column = 'extreme_events'\n",
    "\n",
    "# Split data into features and target\n",
    "X = data_for_ml.drop(columns=[target_column])\n",
    "y = data_for_ml[target_column]\n",
    "\n",
    "# Split data into training and testing sets\n",
    "X_train, X_test, y_train, y_test = train_test_split(X, y, test_size=0.2, random_state=42)\n",
    "\n",
    "# Train an SVR model\n",
    "svr_model = SVR(kernel='rbf')  # You can choose different kernel types\n",
    "svr_model.fit(X_train, y_train)\n",
    "\n",
    "# Predict on the test set\n",
    "y_pred = svr_model.predict(X_test)\n",
    "\n",
    "# Calculate Mean Squared Error\n",
    "mse = mean_squared_error(y_test, y_pred)\n",
    "print(f\"Mean Squared Error: {mse}\")\n"
   ]
  },
  {
   "cell_type": "code",
   "execution_count": 32,
   "id": "529cee0a",
   "metadata": {},
   "outputs": [
    {
     "name": "stdout",
     "output_type": "stream",
     "text": [
      "Mean Squared Error: 0.12474190922889743\n"
     ]
    },
    {
     "data": {
      "image/png": "[encoded data removed]",
      "text/plain": [
       "<Figure size 1000x600 with 1 Axes>"
      ]
     },
     "metadata": {},
     "output_type": "display_data"
    }
   ],
   "source": [
    "import pandas as pd\n",
    "from sklearn.model_selection import train_test_split\n",
    "from sklearn.ensemble import GradientBoostingRegressor\n",
    "from sklearn.metrics import mean_squared_error\n",
    "import matplotlib.pyplot as plt\n",
    "\n",
    "# Assuming Data_df is your DataFrame with features and target\n",
    "# Replace 'target_column' with the name of your target column\n",
    "target_column = 'extreme_events'\n",
    "\n",
    "# Split data into features and target\n",
    "X = data_for_ml.drop(columns=[target_column])\n",
    "y = data_for_ml[target_column]\n",
    "\n",
    "# Split data into training and testing sets\n",
    "X_train, X_test, y_train, y_test = train_test_split(X, y, test_size=0.2, random_state=42)\n",
    "\n",
    "# Train a Gradient Boosting Regressor\n",
    "gb_model = GradientBoostingRegressor(random_state=42)\n",
    "gb_model.fit(X_train, y_train)\n",
    "\n",
    "# Predict on the test set\n",
    "y_pred = gb_model.predict(X_test)\n",
    "\n",
    "# Calculate Mean Squared Error\n",
    "mse = mean_squared_error(y_test, y_pred)\n",
    "print(f\"Mean Squared Error: {mse}\")\n",
    "\n",
    "# Visualize predicted vs. actual values\n",
    "plt.figure(figsize=(10, 6))\n",
    "plt.scatter(y_test, y_pred)\n",
    "plt.xlabel('Actual Values')\n",
    "plt.ylabel('Predicted Values')\n",
    "plt.title('Predicted vs. Actual Values (Gradient Boosting)')\n",
    "plt.show()\n"
   ]
  },
  {
   "cell_type": "code",
   "execution_count": 33,
   "id": "e34d28e1",
   "metadata": {},
   "outputs": [
    {
     "name": "stdout",
     "output_type": "stream",
     "text": [
      "Linear Regression:\n",
      "Mean Squared Error (MSE): 0.16635889240785456\n",
      "Root Mean Squared Error (RMSE): 0.40787117133704676\n",
      "Mean Absolute Error (MAE): 0.3661055915927781\n",
      "R-squared (R2): -0.06652181564307025\n"
     ]
    }
   ],
   "source": [
    "from sklearn.metrics import mean_squared_error, mean_absolute_error, r2_score\n",
    "\n",
    "# Assuming lr_model is your trained Linear Regression model\n",
    "y_pred_lr = lr_model.predict(X_test)\n",
    "\n",
    "# Calculate metrics\n",
    "mse_lr = mean_squared_error(y_test, y_pred_lr)\n",
    "rmse_lr = mean_squared_error(y_test, y_pred_lr, squared=False)\n",
    "mae_lr = mean_absolute_error(y_test, y_pred_lr)\n",
    "r2_lr = r2_score(y_test, y_pred_lr)\n",
    "\n",
    "print(f\"Linear Regression:\")\n",
    "print(f\"Mean Squared Error (MSE): {mse_lr}\")\n",
    "print(f\"Root Mean Squared Error (RMSE): {rmse_lr}\")\n",
    "print(f\"Mean Absolute Error (MAE): {mae_lr}\")\n",
    "print(f\"R-squared (R2): {r2_lr}\")\n"
   ]
  },
  {
   "cell_type": "code",
   "execution_count": 34,
   "id": "e0c269ce",
   "metadata": {},
   "outputs": [
    {
     "name": "stdout",
     "output_type": "stream",
     "text": [
      "Random Forest:\n",
      "Mean Squared Error (MSE): 0.1300773657336853\n",
      "Root Mean Squared Error (RMSE): 0.3606623985581049\n",
      "Mean Absolute Error (MAE): 0.2792199513325433\n",
      "R-squared (R2): 0.16607795190028762\n"
     ]
    }
   ],
   "source": [
    "# Assuming rf_model is your trained Random Forest model\n",
    "y_pred_rf = rf_model.predict(X_test)\n",
    "\n",
    "# Calculate metrics\n",
    "mse_rf = mean_squared_error(y_test, y_pred_rf)\n",
    "rmse_rf = mean_squared_error(y_test, y_pred_rf, squared=False)\n",
    "mae_rf = mean_absolute_error(y_test, y_pred_rf)\n",
    "r2_rf = r2_score(y_test, y_pred_rf)\n",
    "\n",
    "print(f\"Random Forest:\")\n",
    "print(f\"Mean Squared Error (MSE): {mse_rf}\")\n",
    "print(f\"Root Mean Squared Error (RMSE): {rmse_rf}\")\n",
    "print(f\"Mean Absolute Error (MAE): {mae_rf}\")\n",
    "print(f\"R-squared (R2): {r2_rf}\")\n"
   ]
  },
  {
   "cell_type": "code",
   "execution_count": null,
   "id": "439c17d1",
   "metadata": {},
   "outputs": [],
   "source": []
  },
  {
   "cell_type": "code",
   "execution_count": null,
   "id": "af8ed922",
   "metadata": {},
   "outputs": [],
   "source": []
  },
  {
   "cell_type": "code",
   "execution_count": null,
   "id": "c9deed3c",
   "metadata": {},
   "outputs": [],
   "source": []
  },
  {
   "cell_type": "code",
   "execution_count": null,
   "id": "7b3b24c8",
   "metadata": {},
   "outputs": [],
   "source": []
  },
  {
   "cell_type": "code",
   "execution_count": null,
   "id": "db87b84a",
   "metadata": {},
   "outputs": [],
   "source": []
  },
  {
   "cell_type": "code",
   "execution_count": null,
   "id": "9d13ce71",
   "metadata": {},
   "outputs": [],
   "source": []
  },
  {
   "cell_type": "code",
   "execution_count": null,
   "id": "52bcbb71",
   "metadata": {},
   "outputs": [],
   "source": []
  },
  {
   "cell_type": "code",
   "execution_count": null,
   "id": "880d7276",
   "metadata": {},
   "outputs": [],
   "source": []
  },
  {
   "cell_type": "code",
   "execution_count": null,
   "id": "a3b26fb3",
   "metadata": {},
   "outputs": [],
   "source": []
  },
  {
   "cell_type": "code",
   "execution_count": null,
   "id": "15ace577",
   "metadata": {},
   "outputs": [],
   "source": []
  },
  {
   "cell_type": "code",
   "execution_count": null,
   "id": "c3411315",
   "metadata": {},
   "outputs": [],
   "source": []
  },
  {
   "cell_type": "code",
   "execution_count": null,
   "id": "285b655c",
   "metadata": {},
   "outputs": [],
   "source": []
  },
  {
   "cell_type": "code",
   "execution_count": null,
   "id": "6ff9ba17",
   "metadata": {},
   "outputs": [],
   "source": []
  },
  {
   "cell_type": "code",
   "execution_count": null,
   "id": "e3208d11",
   "metadata": {},
   "outputs": [],
   "source": []
  },
  {
   "cell_type": "code",
   "execution_count": null,
   "id": "84b34b4e",
   "metadata": {},
   "outputs": [],
   "source": []
  },
  {
   "cell_type": "code",
   "execution_count": null,
   "id": "3bfa4480",
   "metadata": {},
   "outputs": [],
   "source": []
  },
  {
   "cell_type": "code",
   "execution_count": null,
   "id": "3bf6394b",
   "metadata": {},
   "outputs": [],
   "source": []
  }
 ],
 "metadata": {
  "kernelspec": {
   "display_name": "Python 3 (ipykernel)",
   "language": "python",
   "name": "python3"
  },
  "language_info": {
   "codemirror_mode": {
    "name": "ipython",
    "version": 3
   },
   "file_extension": ".py",
   "mimetype": "text/x-python",
   "name": "python",
   "nbconvert_exporter": "python",
   "pygments_lexer": "ipython3",
   "version": "3.9.13"
  },
  "varInspector": {
   "cols": {
    "lenName": 16,
    "lenType": 16,
    "lenVar": 40
   },
   "kernels_config": {
    "python": {
     "delete_cmd_postfix": "",
     "delete_cmd_prefix": "del ",
     "library": "var_list.py",
     "varRefreshCmd": "print(var_dic_list())"
    },
    "r": {
     "delete_cmd_postfix": ") ",
     "delete_cmd_prefix": "rm(",
     "library": "var_list.r",
     "varRefreshCmd": "cat(var_dic_list()) "
    }
   },
   "types_to_exclude": [
    "module",
    "function",
    "builtin_function_or_method",
    "instance",
    "_Feature"
   ],
   "window_display": false
  }
 },
 "nbformat": 4,
 "nbformat_minor": 5
}
