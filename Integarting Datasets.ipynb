{
 "cells": [
  {
   "cell_type": "markdown",
   "metadata": {},
   "source": [
    "# Assignment 1: Data Parsing, Cleansing and Integration\n",
    "## Task 3\n",
    "#### Student Name: Deepa Rose Thomas\n",
    "#### Student ID: s3952532\n",
    "\n",
    "Date: 31-08-2023\n",
    "\n",
    "Version: 1.0\n",
    "\n",
    "Environment: Python 3 and Jupyter notebook\n",
    "\n",
    "Libraries used: please include the main libraries you used in your assignment, e.g.,:\n",
    "* pandas\n",
    "* re\n",
    "* numpy\n",
    "\n",
    "\n",
    "## Introduction\n",
    "<p style=\"text-align: justify;\">\n",
    "In this task, We  are required to integrate the given dataset with the solution from the first and second tasks.\n",
    "There can be many conflicts and issues that can happen while we undertake this process\n",
    "\n",
    "1. Resolving schema level conflicts and merging data: \n",
    "We plan on inspecting and comparing the schema of the first dataset and the second dataset to resolve any conflicts pertaining to the schema level. Since the second data set does not have an implicit Id column, we need to generate a similar column for the third dataset for merging. We have to do a semantic mapping so as to integrate the 2 datasets.\n",
    "    \n",
    "\n",
    "2. Resolving data level conflicts \n",
    "In this step, we use Pandas libraries so as to resolve duplication in the merged datasets. We also have to identify a global key for the integrated datasets with proper reasoning.\n",
    "\n",
    "    \n",
    "3. Finally our output will be the merged dataset\n",
    "</p>\n"
   ]
  },
  {
   "cell_type": "markdown",
   "metadata": {},
   "source": [
    "## .  Defining an Initial Global Schema\n",
    "\n",
    "There are many conflicts in the two schemas in Dateset1 and Dataset2. \n",
    "- Dateset 2 does not have `ID`column\n",
    "- Dateset 2  does not have annual Salary, instead it has `MonthlyPayment` column.\n",
    "- Datetime format differs in Detaset 2 and the column names are different.\n",
    "- `ContractTime` column in Dataset 1 is given as `Type` in Dataset 2\n",
    "- `ContractYpe` column in Dataset 1 is given as `Full-Time Equivalent (FTE)` in Dataset 2\n",
    "- `Title` columnn in Dataset 1 is given as `JobTitle` in Dataset 2\n",
    "- `Company` column in Dataset 1 is `Organization` in Dataset 2\n",
    "- `Category` has different values in both datasets\n",
    "- `SourceName` column is missing in Dataset 2.\n",
    "\n",
    "Hence our schema needs to be matching for both the datasets"
   ]
  },
  {
   "cell_type": "markdown",
   "metadata": {},
   "source": [
    "##  Import libraries "
   ]
  },
  {
   "cell_type": "code",
   "execution_count": 31,
   "metadata": {},
   "outputs": [],
   "source": [
    "# Code to import libraries as you need in this assessment\n",
    "import pandas as pd\n",
    "import re\n",
    "import numpy as np\n",
    "import warnings\n",
    "warnings.filterwarnings(\"ignore\", category=FutureWarning)"
   ]
  },
  {
   "cell_type": "markdown",
   "metadata": {},
   "source": [
    "### 1. Examining and loading datasets\n",
    "Examining both the datasets to get an idea regarding the columns and their ordering"
   ]
  },
  {
   "cell_type": "code",
   "execution_count": 32,
   "metadata": {},
   "outputs": [],
   "source": [
    "# Code to inspect the provided data file\n",
    "data1 = pd.read_csv('s3952532_dataset1_solution.csv')\n",
    "data2 = pd.read_csv('s3952532_dataset2.csv')"
   ]
  },
  {
   "cell_type": "code",
   "execution_count": 33,
   "metadata": {},
   "outputs": [
    {
     "data": {
      "text/html": [
       "<div>\n",
       "<style scoped>\n",
       "    .dataframe tbody tr th:only-of-type {\n",
       "        vertical-align: middle;\n",
       "    }\n",
       "\n",
       "    .dataframe tbody tr th {\n",
       "        vertical-align: top;\n",
       "    }\n",
       "\n",
       "    .dataframe thead th {\n",
       "        text-align: right;\n",
       "    }\n",
       "</style>\n",
       "<table border=\"1\" class=\"dataframe\">\n",
       "  <thead>\n",
       "    <tr style=\"text-align: right;\">\n",
       "      <th></th>\n",
       "      <th>Id</th>\n",
       "      <th>Title</th>\n",
       "      <th>Location</th>\n",
       "      <th>Company</th>\n",
       "      <th>ContractType</th>\n",
       "      <th>ContractTime</th>\n",
       "      <th>Category</th>\n",
       "      <th>Salary</th>\n",
       "      <th>OpenDate</th>\n",
       "      <th>CloseDate</th>\n",
       "      <th>SourceName</th>\n",
       "    </tr>\n",
       "  </thead>\n",
       "  <tbody>\n",
       "    <tr>\n",
       "      <th>0</th>\n",
       "      <td>70519984</td>\n",
       "      <td>International Marketing Manager / Director</td>\n",
       "      <td>Manchester</td>\n",
       "      <td>A2Z School of English</td>\n",
       "      <td>non specified</td>\n",
       "      <td>permanent</td>\n",
       "      <td>PR, Advertising &amp; Marketing Jobs</td>\n",
       "      <td>32500.0</td>\n",
       "      <td>2012-05-16 12:00:00</td>\n",
       "      <td>2012-06-15 12:00:00</td>\n",
       "      <td>jobsite.co.uk</td>\n",
       "    </tr>\n",
       "    <tr>\n",
       "      <th>1</th>\n",
       "      <td>71857396</td>\n",
       "      <td>Web Developer  HTML, CSS, Wordpress (34 days p...</td>\n",
       "      <td>UK</td>\n",
       "      <td>Recruitment Revolution.Com Limited</td>\n",
       "      <td>non specified</td>\n",
       "      <td>permanent</td>\n",
       "      <td>IT Jobs</td>\n",
       "      <td>20500.0</td>\n",
       "      <td>2013-05-18 15:00:00</td>\n",
       "      <td>2013-06-17 15:00:00</td>\n",
       "      <td>jobsite.co.uk</td>\n",
       "    </tr>\n",
       "    <tr>\n",
       "      <th>2</th>\n",
       "      <td>71444746</td>\n",
       "      <td>Sales Advisor (Events) Swindon covering SN , G...</td>\n",
       "      <td>UK</td>\n",
       "      <td>SMRS Limited  new</td>\n",
       "      <td>non specified</td>\n",
       "      <td>permanent</td>\n",
       "      <td>Sales Jobs</td>\n",
       "      <td>34000.0</td>\n",
       "      <td>2013-08-22 12:00:00</td>\n",
       "      <td>2013-10-21 12:00:00</td>\n",
       "      <td>jobsite.co.uk</td>\n",
       "    </tr>\n",
       "    <tr>\n",
       "      <th>3</th>\n",
       "      <td>71707588</td>\n",
       "      <td>Tester, Software Tester, Test Engineer</td>\n",
       "      <td>Leeds</td>\n",
       "      <td>Estio Technology Recruitment Limited</td>\n",
       "      <td>non specified</td>\n",
       "      <td>permanent</td>\n",
       "      <td>IT Jobs</td>\n",
       "      <td>26500.0</td>\n",
       "      <td>2013-07-17 00:00:00</td>\n",
       "      <td>2013-08-16 00:00:00</td>\n",
       "      <td>jobsite.co.uk</td>\n",
       "    </tr>\n",
       "    <tr>\n",
       "      <th>4</th>\n",
       "      <td>72679431</td>\n",
       "      <td>Territory Sales / Field Sales Executive</td>\n",
       "      <td>Norwich</td>\n",
       "      <td>Virtuoso Recruitment Limited</td>\n",
       "      <td>non specified</td>\n",
       "      <td>permanent</td>\n",
       "      <td>Sales Jobs</td>\n",
       "      <td>29500.0</td>\n",
       "      <td>2013-07-10 00:00:00</td>\n",
       "      <td>2013-08-09 00:00:00</td>\n",
       "      <td>jobsite.co.uk</td>\n",
       "    </tr>\n",
       "  </tbody>\n",
       "</table>\n",
       "</div>"
      ],
      "text/plain": [
       "         Id                                              Title    Location  \\\n",
       "0  70519984         International Marketing Manager / Director  Manchester   \n",
       "1  71857396  Web Developer  HTML, CSS, Wordpress (34 days p...          UK   \n",
       "2  71444746  Sales Advisor (Events) Swindon covering SN , G...          UK   \n",
       "3  71707588             Tester, Software Tester, Test Engineer       Leeds   \n",
       "4  72679431            Territory Sales / Field Sales Executive     Norwich   \n",
       "\n",
       "                                Company   ContractType ContractTime  \\\n",
       "0                 A2Z School of English  non specified    permanent   \n",
       "1    Recruitment Revolution.Com Limited  non specified    permanent   \n",
       "2                     SMRS Limited  new  non specified    permanent   \n",
       "3  Estio Technology Recruitment Limited  non specified    permanent   \n",
       "4          Virtuoso Recruitment Limited  non specified    permanent   \n",
       "\n",
       "                           Category   Salary             OpenDate  \\\n",
       "0  PR, Advertising & Marketing Jobs  32500.0  2012-05-16 12:00:00   \n",
       "1                           IT Jobs  20500.0  2013-05-18 15:00:00   \n",
       "2                        Sales Jobs  34000.0  2013-08-22 12:00:00   \n",
       "3                           IT Jobs  26500.0  2013-07-17 00:00:00   \n",
       "4                        Sales Jobs  29500.0  2013-07-10 00:00:00   \n",
       "\n",
       "             CloseDate     SourceName  \n",
       "0  2012-06-15 12:00:00  jobsite.co.uk  \n",
       "1  2013-06-17 15:00:00  jobsite.co.uk  \n",
       "2  2013-10-21 12:00:00  jobsite.co.uk  \n",
       "3  2013-08-16 00:00:00  jobsite.co.uk  \n",
       "4  2013-08-09 00:00:00  jobsite.co.uk  "
      ]
     },
     "execution_count": 33,
     "metadata": {},
     "output_type": "execute_result"
    }
   ],
   "source": [
    "data1.head()"
   ]
  },
  {
   "cell_type": "markdown",
   "metadata": {},
   "source": [
    "Because we have already inspected and corrected the first dataset, we are not checking the types of the attributes in the first dataset"
   ]
  },
  {
   "cell_type": "code",
   "execution_count": 34,
   "metadata": {},
   "outputs": [
    {
     "data": {
      "text/html": [
       "<div>\n",
       "<style scoped>\n",
       "    .dataframe tbody tr th:only-of-type {\n",
       "        vertical-align: middle;\n",
       "    }\n",
       "\n",
       "    .dataframe tbody tr th {\n",
       "        vertical-align: top;\n",
       "    }\n",
       "\n",
       "    .dataframe thead th {\n",
       "        text-align: right;\n",
       "    }\n",
       "</style>\n",
       "<table border=\"1\" class=\"dataframe\">\n",
       "  <thead>\n",
       "    <tr style=\"text-align: right;\">\n",
       "      <th></th>\n",
       "      <th>Monthly Payment</th>\n",
       "      <th>Closing</th>\n",
       "      <th>Organisation</th>\n",
       "      <th>Location</th>\n",
       "      <th>Category</th>\n",
       "      <th>Full-Time Equivalent (FTE)</th>\n",
       "      <th>Opening</th>\n",
       "      <th>Job Title</th>\n",
       "      <th>Type</th>\n",
       "    </tr>\n",
       "  </thead>\n",
       "  <tbody>\n",
       "    <tr>\n",
       "      <th>0</th>\n",
       "      <td>1200.00</td>\n",
       "      <td>2012-12-27 12:00:00</td>\n",
       "      <td>Protocol Education</td>\n",
       "      <td>UK</td>\n",
       "      <td>Education</td>\n",
       "      <td>0.8</td>\n",
       "      <td>2012-11-27 12:00:00</td>\n",
       "      <td>Higher Level Teaching Assistant (HLTA)</td>\n",
       "      <td>NaN</td>\n",
       "    </tr>\n",
       "    <tr>\n",
       "      <th>1</th>\n",
       "      <td>3125.00</td>\n",
       "      <td>2013-08-25 15:00:00</td>\n",
       "      <td>Cordius Ltd</td>\n",
       "      <td>UK</td>\n",
       "      <td>Information Technology</td>\n",
       "      <td>1.0</td>\n",
       "      <td>2013-06-26 15:00:00</td>\n",
       "      <td>Software Developers / Software Architects  Not...</td>\n",
       "      <td>Permanent</td>\n",
       "    </tr>\n",
       "    <tr>\n",
       "      <th>2</th>\n",
       "      <td>4333.33</td>\n",
       "      <td>2013-01-16 15:00:00</td>\n",
       "      <td>Understanding Recruitment</td>\n",
       "      <td>Walton-On-Thames</td>\n",
       "      <td>Information Technology</td>\n",
       "      <td>1.0</td>\n",
       "      <td>2012-10-18 15:00:00</td>\n",
       "      <td>Senior BI Consultant (Cognos)</td>\n",
       "      <td>Permanent</td>\n",
       "    </tr>\n",
       "    <tr>\n",
       "      <th>3</th>\n",
       "      <td>3750.00</td>\n",
       "      <td>2013-02-13 15:00:00</td>\n",
       "      <td>Wallace Hind Selection</td>\n",
       "      <td>UK</td>\n",
       "      <td>Sales</td>\n",
       "      <td>1.0</td>\n",
       "      <td>2012-12-15 15:00:00</td>\n",
       "      <td>Technical Sales Manager, Pigments Fillers to S...</td>\n",
       "      <td>NaN</td>\n",
       "    </tr>\n",
       "    <tr>\n",
       "      <th>4</th>\n",
       "      <td>2916.67</td>\n",
       "      <td>2013-01-12 12:00:00</td>\n",
       "      <td>Greenhill Group Ltd</td>\n",
       "      <td>Eastern England</td>\n",
       "      <td>Sales</td>\n",
       "      <td>1.0</td>\n",
       "      <td>2012-12-29 12:00:00</td>\n",
       "      <td>Channel Account Manager  Software</td>\n",
       "      <td>NaN</td>\n",
       "    </tr>\n",
       "  </tbody>\n",
       "</table>\n",
       "</div>"
      ],
      "text/plain": [
       "   Monthly Payment              Closing               Organisation  \\\n",
       "0          1200.00  2012-12-27 12:00:00         Protocol Education   \n",
       "1          3125.00  2013-08-25 15:00:00                Cordius Ltd   \n",
       "2          4333.33  2013-01-16 15:00:00  Understanding Recruitment   \n",
       "3          3750.00  2013-02-13 15:00:00     Wallace Hind Selection   \n",
       "4          2916.67  2013-01-12 12:00:00        Greenhill Group Ltd   \n",
       "\n",
       "           Location                Category  Full-Time Equivalent (FTE)  \\\n",
       "0                UK               Education                         0.8   \n",
       "1                UK  Information Technology                         1.0   \n",
       "2  Walton-On-Thames  Information Technology                         1.0   \n",
       "3                UK                   Sales                         1.0   \n",
       "4   Eastern England                   Sales                         1.0   \n",
       "\n",
       "               Opening                                          Job Title  \\\n",
       "0  2012-11-27 12:00:00             Higher Level Teaching Assistant (HLTA)   \n",
       "1  2013-06-26 15:00:00  Software Developers / Software Architects  Not...   \n",
       "2  2012-10-18 15:00:00                      Senior BI Consultant (Cognos)   \n",
       "3  2012-12-15 15:00:00  Technical Sales Manager, Pigments Fillers to S...   \n",
       "4  2012-12-29 12:00:00                  Channel Account Manager  Software   \n",
       "\n",
       "        Type  \n",
       "0        NaN  \n",
       "1  Permanent  \n",
       "2  Permanent  \n",
       "3        NaN  \n",
       "4        NaN  "
      ]
     },
     "execution_count": 34,
     "metadata": {},
     "output_type": "execute_result"
    }
   ],
   "source": [
    "data2.head()"
   ]
  },
  {
   "cell_type": "code",
   "execution_count": 35,
   "metadata": {},
   "outputs": [
    {
     "name": "stdout",
     "output_type": "stream",
     "text": [
      "<class 'pandas.core.frame.DataFrame'>\n",
      "RangeIndex: 5000 entries, 0 to 4999\n",
      "Data columns (total 9 columns):\n",
      " #   Column                      Non-Null Count  Dtype  \n",
      "---  ------                      --------------  -----  \n",
      " 0   Monthly Payment             5000 non-null   float64\n",
      " 1   Closing                     5000 non-null   object \n",
      " 2   Organisation                4514 non-null   object \n",
      " 3   Location                    5000 non-null   object \n",
      " 4   Category                    5000 non-null   object \n",
      " 5   Full-Time Equivalent (FTE)  5000 non-null   float64\n",
      " 6   Opening                     5000 non-null   object \n",
      " 7   Job Title                   5000 non-null   object \n",
      " 8   Type                        3580 non-null   object \n",
      "dtypes: float64(2), object(7)\n",
      "memory usage: 351.7+ KB\n"
     ]
    }
   ],
   "source": [
    "data2.info()"
   ]
  },
  {
   "cell_type": "markdown",
   "metadata": {},
   "source": [
    "***Inference:***\n",
    "\n",
    "There are inconsistenices in datatypes for this dataset."
   ]
  },
  {
   "cell_type": "code",
   "execution_count": 36,
   "metadata": {},
   "outputs": [
    {
     "name": "stdout",
     "output_type": "stream",
     "text": [
      "\n",
      "Summary statistics of numeric columns:\n"
     ]
    },
    {
     "data": {
      "text/html": [
       "<div>\n",
       "<style scoped>\n",
       "    .dataframe tbody tr th:only-of-type {\n",
       "        vertical-align: middle;\n",
       "    }\n",
       "\n",
       "    .dataframe tbody tr th {\n",
       "        vertical-align: top;\n",
       "    }\n",
       "\n",
       "    .dataframe thead th {\n",
       "        text-align: right;\n",
       "    }\n",
       "</style>\n",
       "<table border=\"1\" class=\"dataframe\">\n",
       "  <thead>\n",
       "    <tr style=\"text-align: right;\">\n",
       "      <th></th>\n",
       "      <th>Monthly Payment</th>\n",
       "      <th>Full-Time Equivalent (FTE)</th>\n",
       "    </tr>\n",
       "  </thead>\n",
       "  <tbody>\n",
       "    <tr>\n",
       "      <th>count</th>\n",
       "      <td>5000.000000</td>\n",
       "      <td>5000.000000</td>\n",
       "    </tr>\n",
       "    <tr>\n",
       "      <th>mean</th>\n",
       "      <td>2888.458606</td>\n",
       "      <td>0.983360</td>\n",
       "    </tr>\n",
       "    <tr>\n",
       "      <th>std</th>\n",
       "      <td>1347.913223</td>\n",
       "      <td>0.098372</td>\n",
       "    </tr>\n",
       "    <tr>\n",
       "      <th>min</th>\n",
       "      <td>417.170000</td>\n",
       "      <td>0.200000</td>\n",
       "    </tr>\n",
       "    <tr>\n",
       "      <th>25%</th>\n",
       "      <td>1920.000000</td>\n",
       "      <td>1.000000</td>\n",
       "    </tr>\n",
       "    <tr>\n",
       "      <th>50%</th>\n",
       "      <td>2605.000000</td>\n",
       "      <td>1.000000</td>\n",
       "    </tr>\n",
       "    <tr>\n",
       "      <th>75%</th>\n",
       "      <td>3541.670000</td>\n",
       "      <td>1.000000</td>\n",
       "    </tr>\n",
       "    <tr>\n",
       "      <th>max</th>\n",
       "      <td>8000.000000</td>\n",
       "      <td>1.000000</td>\n",
       "    </tr>\n",
       "  </tbody>\n",
       "</table>\n",
       "</div>"
      ],
      "text/plain": [
       "       Monthly Payment  Full-Time Equivalent (FTE)\n",
       "count      5000.000000                 5000.000000\n",
       "mean       2888.458606                    0.983360\n",
       "std        1347.913223                    0.098372\n",
       "min         417.170000                    0.200000\n",
       "25%        1920.000000                    1.000000\n",
       "50%        2605.000000                    1.000000\n",
       "75%        3541.670000                    1.000000\n",
       "max        8000.000000                    1.000000"
      ]
     },
     "execution_count": 36,
     "metadata": {},
     "output_type": "execute_result"
    }
   ],
   "source": [
    "print(\"\\nSummary statistics of numeric columns:\")\n",
    "data2.describe()"
   ]
  },
  {
   "cell_type": "markdown",
   "metadata": {},
   "source": [
    "### 2. Resolving schema conflicts\n",
    "In this section we resolve the conflicts related to the schema of the datasets"
   ]
  },
  {
   "cell_type": "markdown",
   "metadata": {},
   "source": [
    "#### Conflict 1: Naming Conventions\n",
    "The columns in both the datasets have different names and appears to be in different order. \n",
    "- As an initial step, I plan on renaming the columns in the second dataset to match the first."
   ]
  },
  {
   "cell_type": "code",
   "execution_count": 37,
   "metadata": {},
   "outputs": [
    {
     "data": {
      "text/plain": [
       "Index(['Id', 'Title', 'Location', 'Company', 'ContractType', 'ContractTime',\n",
       "       'Category', 'Salary', 'OpenDate', 'CloseDate', 'SourceName'],\n",
       "      dtype='object')"
      ]
     },
     "execution_count": 37,
     "metadata": {},
     "output_type": "execute_result"
    }
   ],
   "source": [
    "data1.columns"
   ]
  },
  {
   "cell_type": "code",
   "execution_count": 38,
   "metadata": {},
   "outputs": [
    {
     "data": {
      "text/plain": [
       "Index(['Monthly Payment', 'Closing', 'Organisation', 'Location', 'Category',\n",
       "       'Full-Time Equivalent (FTE)', 'Opening', 'Job Title', 'Type'],\n",
       "      dtype='object')"
      ]
     },
     "execution_count": 38,
     "metadata": {},
     "output_type": "execute_result"
    }
   ],
   "source": [
    "data2.columns"
   ]
  },
  {
   "cell_type": "code",
   "execution_count": 39,
   "metadata": {},
   "outputs": [],
   "source": [
    "#1. RENAMING COLUMNS\n",
    "columns_mapping = {\n",
    "    'Organisation': 'Company',\n",
    "    'Type': 'ContractTime',\n",
    "    'Monthly Payment': 'Salary',\n",
    "    'Closing': 'CloseDate',\n",
    "    'Location': 'Location',\n",
    "    'Category': 'Category',\n",
    "    'Opening': 'OpenDate',\n",
    "    'Job Title': 'Title',\n",
    "    'Full-Time Equivalent (FTE)': 'ContractType'\n",
    "}\n",
    "data2.rename(columns=columns_mapping, inplace=True)\n",
    "    "
   ]
  },
  {
   "cell_type": "code",
   "execution_count": 40,
   "metadata": {},
   "outputs": [
    {
     "data": {
      "text/plain": [
       "Index(['Salary', 'CloseDate', 'Company', 'Location', 'Category',\n",
       "       'ContractType', 'OpenDate', 'Title', 'ContractTime'],\n",
       "      dtype='object')"
      ]
     },
     "execution_count": 40,
     "metadata": {},
     "output_type": "execute_result"
    }
   ],
   "source": [
    "data2.columns"
   ]
  },
  {
   "cell_type": "code",
   "execution_count": 41,
   "metadata": {},
   "outputs": [
    {
     "data": {
      "text/html": [
       "<div>\n",
       "<style scoped>\n",
       "    .dataframe tbody tr th:only-of-type {\n",
       "        vertical-align: middle;\n",
       "    }\n",
       "\n",
       "    .dataframe tbody tr th {\n",
       "        vertical-align: top;\n",
       "    }\n",
       "\n",
       "    .dataframe thead th {\n",
       "        text-align: right;\n",
       "    }\n",
       "</style>\n",
       "<table border=\"1\" class=\"dataframe\">\n",
       "  <thead>\n",
       "    <tr style=\"text-align: right;\">\n",
       "      <th></th>\n",
       "      <th>Salary</th>\n",
       "      <th>CloseDate</th>\n",
       "      <th>Company</th>\n",
       "      <th>Location</th>\n",
       "      <th>Category</th>\n",
       "      <th>ContractType</th>\n",
       "      <th>OpenDate</th>\n",
       "      <th>Title</th>\n",
       "      <th>ContractTime</th>\n",
       "    </tr>\n",
       "  </thead>\n",
       "  <tbody>\n",
       "    <tr>\n",
       "      <th>0</th>\n",
       "      <td>1200.00</td>\n",
       "      <td>2012-12-27 12:00:00</td>\n",
       "      <td>Protocol Education</td>\n",
       "      <td>UK</td>\n",
       "      <td>Education</td>\n",
       "      <td>0.8</td>\n",
       "      <td>2012-11-27 12:00:00</td>\n",
       "      <td>Higher Level Teaching Assistant (HLTA)</td>\n",
       "      <td>NaN</td>\n",
       "    </tr>\n",
       "    <tr>\n",
       "      <th>1</th>\n",
       "      <td>3125.00</td>\n",
       "      <td>2013-08-25 15:00:00</td>\n",
       "      <td>Cordius Ltd</td>\n",
       "      <td>UK</td>\n",
       "      <td>Information Technology</td>\n",
       "      <td>1.0</td>\n",
       "      <td>2013-06-26 15:00:00</td>\n",
       "      <td>Software Developers / Software Architects  Not...</td>\n",
       "      <td>Permanent</td>\n",
       "    </tr>\n",
       "    <tr>\n",
       "      <th>2</th>\n",
       "      <td>4333.33</td>\n",
       "      <td>2013-01-16 15:00:00</td>\n",
       "      <td>Understanding Recruitment</td>\n",
       "      <td>Walton-On-Thames</td>\n",
       "      <td>Information Technology</td>\n",
       "      <td>1.0</td>\n",
       "      <td>2012-10-18 15:00:00</td>\n",
       "      <td>Senior BI Consultant (Cognos)</td>\n",
       "      <td>Permanent</td>\n",
       "    </tr>\n",
       "    <tr>\n",
       "      <th>3</th>\n",
       "      <td>3750.00</td>\n",
       "      <td>2013-02-13 15:00:00</td>\n",
       "      <td>Wallace Hind Selection</td>\n",
       "      <td>UK</td>\n",
       "      <td>Sales</td>\n",
       "      <td>1.0</td>\n",
       "      <td>2012-12-15 15:00:00</td>\n",
       "      <td>Technical Sales Manager, Pigments Fillers to S...</td>\n",
       "      <td>NaN</td>\n",
       "    </tr>\n",
       "    <tr>\n",
       "      <th>4</th>\n",
       "      <td>2916.67</td>\n",
       "      <td>2013-01-12 12:00:00</td>\n",
       "      <td>Greenhill Group Ltd</td>\n",
       "      <td>Eastern England</td>\n",
       "      <td>Sales</td>\n",
       "      <td>1.0</td>\n",
       "      <td>2012-12-29 12:00:00</td>\n",
       "      <td>Channel Account Manager  Software</td>\n",
       "      <td>NaN</td>\n",
       "    </tr>\n",
       "  </tbody>\n",
       "</table>\n",
       "</div>"
      ],
      "text/plain": [
       "    Salary            CloseDate                    Company          Location  \\\n",
       "0  1200.00  2012-12-27 12:00:00         Protocol Education                UK   \n",
       "1  3125.00  2013-08-25 15:00:00                Cordius Ltd                UK   \n",
       "2  4333.33  2013-01-16 15:00:00  Understanding Recruitment  Walton-On-Thames   \n",
       "3  3750.00  2013-02-13 15:00:00     Wallace Hind Selection                UK   \n",
       "4  2916.67  2013-01-12 12:00:00        Greenhill Group Ltd   Eastern England   \n",
       "\n",
       "                 Category  ContractType             OpenDate  \\\n",
       "0               Education           0.8  2012-11-27 12:00:00   \n",
       "1  Information Technology           1.0  2013-06-26 15:00:00   \n",
       "2  Information Technology           1.0  2012-10-18 15:00:00   \n",
       "3                   Sales           1.0  2012-12-15 15:00:00   \n",
       "4                   Sales           1.0  2012-12-29 12:00:00   \n",
       "\n",
       "                                               Title ContractTime  \n",
       "0             Higher Level Teaching Assistant (HLTA)          NaN  \n",
       "1  Software Developers / Software Architects  Not...    Permanent  \n",
       "2                      Senior BI Consultant (Cognos)    Permanent  \n",
       "3  Technical Sales Manager, Pigments Fillers to S...          NaN  \n",
       "4                  Channel Account Manager  Software          NaN  "
      ]
     },
     "execution_count": 41,
     "metadata": {},
     "output_type": "execute_result"
    }
   ],
   "source": [
    "data2.head()"
   ]
  },
  {
   "cell_type": "markdown",
   "metadata": {},
   "source": [
    "#### Conflict 2 : Inconsistency in column values\n",
    "\n",
    "The Salary column in dataset 1 is annual salaries, where as in dataset 2, they are monthly salaries. We choose to convert the monthly salaries to annual salaries in the second dataset for consistency in column values\n"
   ]
  },
  {
   "cell_type": "code",
   "execution_count": 42,
   "metadata": {},
   "outputs": [],
   "source": [
    "data2['Salary'] = data2['Salary']*12"
   ]
  },
  {
   "cell_type": "code",
   "execution_count": 43,
   "metadata": {},
   "outputs": [
    {
     "data": {
      "text/plain": [
       "0    14400.00\n",
       "1    37500.00\n",
       "2    51999.96\n",
       "3    45000.00\n",
       "4    35000.04\n",
       "Name: Salary, dtype: float64"
      ]
     },
     "execution_count": 43,
     "metadata": {},
     "output_type": "execute_result"
    }
   ],
   "source": [
    "data2['Salary'].head()"
   ]
  },
  {
   "cell_type": "markdown",
   "metadata": {},
   "source": [
    "**Conflict 3: Datatype mismatch**\n",
    "\n",
    "There are columns which does not have the required datatypes. We need to change them to the right datatype"
   ]
  },
  {
   "cell_type": "code",
   "execution_count": 44,
   "metadata": {
    "scrolled": false
   },
   "outputs": [],
   "source": [
    "# Convert date columns to datetime format\n",
    "date_columns = ['CloseDate', 'OpenDate']\n",
    "for column in date_columns:\n",
    "    data2[column] = pd.to_datetime(data2[column], dayfirst=True)"
   ]
  },
  {
   "cell_type": "code",
   "execution_count": 45,
   "metadata": {},
   "outputs": [
    {
     "name": "stdout",
     "output_type": "stream",
     "text": [
      "<class 'pandas.core.frame.DataFrame'>\n",
      "RangeIndex: 5000 entries, 0 to 4999\n",
      "Data columns (total 9 columns):\n",
      " #   Column        Non-Null Count  Dtype         \n",
      "---  ------        --------------  -----         \n",
      " 0   Salary        5000 non-null   float64       \n",
      " 1   CloseDate     5000 non-null   datetime64[ns]\n",
      " 2   Company       4514 non-null   object        \n",
      " 3   Location      5000 non-null   object        \n",
      " 4   Category      5000 non-null   object        \n",
      " 5   ContractType  5000 non-null   float64       \n",
      " 6   OpenDate      5000 non-null   datetime64[ns]\n",
      " 7   Title         5000 non-null   object        \n",
      " 8   ContractTime  3580 non-null   object        \n",
      "dtypes: datetime64[ns](2), float64(2), object(5)\n",
      "memory usage: 351.7+ KB\n"
     ]
    }
   ],
   "source": [
    "data2.info()"
   ]
  },
  {
   "cell_type": "markdown",
   "metadata": {},
   "source": [
    "***Inference:*** \n",
    "The datatype of OpenDate and CloseDate columns have been corrected"
   ]
  },
  {
   "cell_type": "markdown",
   "metadata": {},
   "source": [
    "**Conflict 4 : Missing ID column in Dataset 2**\n",
    "\n",
    "- We do not have an Id column in the second dataset. Hence as the first step, we need to generate random unique Ids matching the ones in the first data set\n"
   ]
  },
  {
   "cell_type": "code",
   "execution_count": 46,
   "metadata": {},
   "outputs": [],
   "source": [
    "#function to create unique IDs for 2nd dataset\n",
    "def generate_unique_ids(existing_ids):\n",
    "    new_id = np.random.randint(10000000, 99999999)  # Generate a random 8-digit integer\n",
    "    while new_id in existing_ids:\n",
    "        new_id = np.random.randint(10000000, 99999999)  # Keep generating until unique\n",
    "    return new_id\n",
    "\n",
    "existing_ids = data1['Id'].tolist()  # Existing IDs in first data set\n",
    "data2['Id'] = data2.apply(lambda row: generate_unique_ids(existing_ids), axis=1)"
   ]
  },
  {
   "cell_type": "code",
   "execution_count": 47,
   "metadata": {},
   "outputs": [
    {
     "data": {
      "text/html": [
       "<div>\n",
       "<style scoped>\n",
       "    .dataframe tbody tr th:only-of-type {\n",
       "        vertical-align: middle;\n",
       "    }\n",
       "\n",
       "    .dataframe tbody tr th {\n",
       "        vertical-align: top;\n",
       "    }\n",
       "\n",
       "    .dataframe thead th {\n",
       "        text-align: right;\n",
       "    }\n",
       "</style>\n",
       "<table border=\"1\" class=\"dataframe\">\n",
       "  <thead>\n",
       "    <tr style=\"text-align: right;\">\n",
       "      <th></th>\n",
       "      <th>Salary</th>\n",
       "      <th>CloseDate</th>\n",
       "      <th>Company</th>\n",
       "      <th>Location</th>\n",
       "      <th>Category</th>\n",
       "      <th>ContractType</th>\n",
       "      <th>OpenDate</th>\n",
       "      <th>Title</th>\n",
       "      <th>ContractTime</th>\n",
       "      <th>Id</th>\n",
       "    </tr>\n",
       "  </thead>\n",
       "  <tbody>\n",
       "    <tr>\n",
       "      <th>0</th>\n",
       "      <td>14400.00</td>\n",
       "      <td>2012-12-27 12:00:00</td>\n",
       "      <td>Protocol Education</td>\n",
       "      <td>UK</td>\n",
       "      <td>Education</td>\n",
       "      <td>0.8</td>\n",
       "      <td>2012-11-27 12:00:00</td>\n",
       "      <td>Higher Level Teaching Assistant (HLTA)</td>\n",
       "      <td>NaN</td>\n",
       "      <td>39543361</td>\n",
       "    </tr>\n",
       "    <tr>\n",
       "      <th>1</th>\n",
       "      <td>37500.00</td>\n",
       "      <td>2013-08-25 15:00:00</td>\n",
       "      <td>Cordius Ltd</td>\n",
       "      <td>UK</td>\n",
       "      <td>Information Technology</td>\n",
       "      <td>1.0</td>\n",
       "      <td>2013-06-26 15:00:00</td>\n",
       "      <td>Software Developers / Software Architects  Not...</td>\n",
       "      <td>Permanent</td>\n",
       "      <td>48425884</td>\n",
       "    </tr>\n",
       "    <tr>\n",
       "      <th>2</th>\n",
       "      <td>51999.96</td>\n",
       "      <td>2013-01-16 15:00:00</td>\n",
       "      <td>Understanding Recruitment</td>\n",
       "      <td>Walton-On-Thames</td>\n",
       "      <td>Information Technology</td>\n",
       "      <td>1.0</td>\n",
       "      <td>2012-10-18 15:00:00</td>\n",
       "      <td>Senior BI Consultant (Cognos)</td>\n",
       "      <td>Permanent</td>\n",
       "      <td>34161114</td>\n",
       "    </tr>\n",
       "    <tr>\n",
       "      <th>3</th>\n",
       "      <td>45000.00</td>\n",
       "      <td>2013-02-13 15:00:00</td>\n",
       "      <td>Wallace Hind Selection</td>\n",
       "      <td>UK</td>\n",
       "      <td>Sales</td>\n",
       "      <td>1.0</td>\n",
       "      <td>2012-12-15 15:00:00</td>\n",
       "      <td>Technical Sales Manager, Pigments Fillers to S...</td>\n",
       "      <td>NaN</td>\n",
       "      <td>66180101</td>\n",
       "    </tr>\n",
       "    <tr>\n",
       "      <th>4</th>\n",
       "      <td>35000.04</td>\n",
       "      <td>2013-01-12 12:00:00</td>\n",
       "      <td>Greenhill Group Ltd</td>\n",
       "      <td>Eastern England</td>\n",
       "      <td>Sales</td>\n",
       "      <td>1.0</td>\n",
       "      <td>2012-12-29 12:00:00</td>\n",
       "      <td>Channel Account Manager  Software</td>\n",
       "      <td>NaN</td>\n",
       "      <td>89435195</td>\n",
       "    </tr>\n",
       "  </tbody>\n",
       "</table>\n",
       "</div>"
      ],
      "text/plain": [
       "     Salary           CloseDate                    Company          Location  \\\n",
       "0  14400.00 2012-12-27 12:00:00         Protocol Education                UK   \n",
       "1  37500.00 2013-08-25 15:00:00                Cordius Ltd                UK   \n",
       "2  51999.96 2013-01-16 15:00:00  Understanding Recruitment  Walton-On-Thames   \n",
       "3  45000.00 2013-02-13 15:00:00     Wallace Hind Selection                UK   \n",
       "4  35000.04 2013-01-12 12:00:00        Greenhill Group Ltd   Eastern England   \n",
       "\n",
       "                 Category  ContractType            OpenDate  \\\n",
       "0               Education           0.8 2012-11-27 12:00:00   \n",
       "1  Information Technology           1.0 2013-06-26 15:00:00   \n",
       "2  Information Technology           1.0 2012-10-18 15:00:00   \n",
       "3                   Sales           1.0 2012-12-15 15:00:00   \n",
       "4                   Sales           1.0 2012-12-29 12:00:00   \n",
       "\n",
       "                                               Title ContractTime        Id  \n",
       "0             Higher Level Teaching Assistant (HLTA)          NaN  39543361  \n",
       "1  Software Developers / Software Architects  Not...    Permanent  48425884  \n",
       "2                      Senior BI Consultant (Cognos)    Permanent  34161114  \n",
       "3  Technical Sales Manager, Pigments Fillers to S...          NaN  66180101  \n",
       "4                  Channel Account Manager  Software          NaN  89435195  "
      ]
     },
     "execution_count": 47,
     "metadata": {},
     "output_type": "execute_result"
    }
   ],
   "source": [
    "data2.head()"
   ]
  },
  {
   "cell_type": "code",
   "execution_count": 48,
   "metadata": {},
   "outputs": [
    {
     "name": "stdout",
     "output_type": "stream",
     "text": [
      "<class 'pandas.core.frame.DataFrame'>\n",
      "RangeIndex: 5000 entries, 0 to 4999\n",
      "Data columns (total 10 columns):\n",
      " #   Column        Non-Null Count  Dtype         \n",
      "---  ------        --------------  -----         \n",
      " 0   Salary        5000 non-null   float64       \n",
      " 1   CloseDate     5000 non-null   datetime64[ns]\n",
      " 2   Company       4514 non-null   object        \n",
      " 3   Location      5000 non-null   object        \n",
      " 4   Category      5000 non-null   object        \n",
      " 5   ContractType  5000 non-null   float64       \n",
      " 6   OpenDate      5000 non-null   datetime64[ns]\n",
      " 7   Title         5000 non-null   object        \n",
      " 8   ContractTime  3580 non-null   object        \n",
      " 9   Id            5000 non-null   int64         \n",
      "dtypes: datetime64[ns](2), float64(2), int64(1), object(5)\n",
      "memory usage: 390.8+ KB\n"
     ]
    }
   ],
   "source": [
    "data2.info()"
   ]
  },
  {
   "cell_type": "markdown",
   "metadata": {},
   "source": [
    "***Inference:***\n",
    "- Id column has been created\n",
    "- Datatypes have been corrected\n",
    "- Columns are renamed"
   ]
  },
  {
   "cell_type": "markdown",
   "metadata": {},
   "source": [
    "**Conflict 4 : Incorrect Values(-,N/A, None) in Columns and Order of Columns**\n",
    "- The Null and undesirable values has be to changed to non-specified\n",
    "- Contract Time value has to be changed to full-time, part-time or non-specified\n",
    "- Source Column has to be created with value as 'www.jobhuntlisting.com'\n",
    "- Category Column has to be mapped into the required categories as per the first dataset\n",
    "- The ordering of the columns also appear to be different, hence for ease of understanding and clarity, I plan on making the column arranged in the same order in both data sets"
   ]
  },
  {
   "cell_type": "code",
   "execution_count": 49,
   "metadata": {},
   "outputs": [],
   "source": [
    "# Map values in 'ContractTime' column to desired values\n",
    "contract_time_mapping = {1: 'full_time', 0: 'non-specified'}\n",
    "# Update values in 'ContractTime' column based on the mapping\n",
    "data2['ContractType'] = data2['ContractType'].map(contract_time_mapping)\n",
    "# Replace values greater than 0 and less than 1 with 'part_time'\n",
    "data2.loc[(data2['ContractType'] != 'full_time') & (data2['ContractType'] != 'non-specified'), 'ContractType'] = 'part_time'"
   ]
  },
  {
   "cell_type": "code",
   "execution_count": 50,
   "metadata": {},
   "outputs": [
    {
     "name": "stdout",
     "output_type": "stream",
     "text": [
      "Updated dataset with modified 'ContractType' column:\n"
     ]
    },
    {
     "data": {
      "text/html": [
       "<div>\n",
       "<style scoped>\n",
       "    .dataframe tbody tr th:only-of-type {\n",
       "        vertical-align: middle;\n",
       "    }\n",
       "\n",
       "    .dataframe tbody tr th {\n",
       "        vertical-align: top;\n",
       "    }\n",
       "\n",
       "    .dataframe thead th {\n",
       "        text-align: right;\n",
       "    }\n",
       "</style>\n",
       "<table border=\"1\" class=\"dataframe\">\n",
       "  <thead>\n",
       "    <tr style=\"text-align: right;\">\n",
       "      <th></th>\n",
       "      <th>Salary</th>\n",
       "      <th>CloseDate</th>\n",
       "      <th>Company</th>\n",
       "      <th>Location</th>\n",
       "      <th>Category</th>\n",
       "      <th>ContractType</th>\n",
       "      <th>OpenDate</th>\n",
       "      <th>Title</th>\n",
       "      <th>ContractTime</th>\n",
       "      <th>Id</th>\n",
       "    </tr>\n",
       "  </thead>\n",
       "  <tbody>\n",
       "    <tr>\n",
       "      <th>0</th>\n",
       "      <td>14400.00</td>\n",
       "      <td>2012-12-27 12:00:00</td>\n",
       "      <td>Protocol Education</td>\n",
       "      <td>UK</td>\n",
       "      <td>Education</td>\n",
       "      <td>part_time</td>\n",
       "      <td>2012-11-27 12:00:00</td>\n",
       "      <td>Higher Level Teaching Assistant (HLTA)</td>\n",
       "      <td>NaN</td>\n",
       "      <td>39543361</td>\n",
       "    </tr>\n",
       "    <tr>\n",
       "      <th>1</th>\n",
       "      <td>37500.00</td>\n",
       "      <td>2013-08-25 15:00:00</td>\n",
       "      <td>Cordius Ltd</td>\n",
       "      <td>UK</td>\n",
       "      <td>Information Technology</td>\n",
       "      <td>full_time</td>\n",
       "      <td>2013-06-26 15:00:00</td>\n",
       "      <td>Software Developers / Software Architects  Not...</td>\n",
       "      <td>Permanent</td>\n",
       "      <td>48425884</td>\n",
       "    </tr>\n",
       "    <tr>\n",
       "      <th>2</th>\n",
       "      <td>51999.96</td>\n",
       "      <td>2013-01-16 15:00:00</td>\n",
       "      <td>Understanding Recruitment</td>\n",
       "      <td>Walton-On-Thames</td>\n",
       "      <td>Information Technology</td>\n",
       "      <td>full_time</td>\n",
       "      <td>2012-10-18 15:00:00</td>\n",
       "      <td>Senior BI Consultant (Cognos)</td>\n",
       "      <td>Permanent</td>\n",
       "      <td>34161114</td>\n",
       "    </tr>\n",
       "    <tr>\n",
       "      <th>3</th>\n",
       "      <td>45000.00</td>\n",
       "      <td>2013-02-13 15:00:00</td>\n",
       "      <td>Wallace Hind Selection</td>\n",
       "      <td>UK</td>\n",
       "      <td>Sales</td>\n",
       "      <td>full_time</td>\n",
       "      <td>2012-12-15 15:00:00</td>\n",
       "      <td>Technical Sales Manager, Pigments Fillers to S...</td>\n",
       "      <td>NaN</td>\n",
       "      <td>66180101</td>\n",
       "    </tr>\n",
       "    <tr>\n",
       "      <th>4</th>\n",
       "      <td>35000.04</td>\n",
       "      <td>2013-01-12 12:00:00</td>\n",
       "      <td>Greenhill Group Ltd</td>\n",
       "      <td>Eastern England</td>\n",
       "      <td>Sales</td>\n",
       "      <td>full_time</td>\n",
       "      <td>2012-12-29 12:00:00</td>\n",
       "      <td>Channel Account Manager  Software</td>\n",
       "      <td>NaN</td>\n",
       "      <td>89435195</td>\n",
       "    </tr>\n",
       "  </tbody>\n",
       "</table>\n",
       "</div>"
      ],
      "text/plain": [
       "     Salary           CloseDate                    Company          Location  \\\n",
       "0  14400.00 2012-12-27 12:00:00         Protocol Education                UK   \n",
       "1  37500.00 2013-08-25 15:00:00                Cordius Ltd                UK   \n",
       "2  51999.96 2013-01-16 15:00:00  Understanding Recruitment  Walton-On-Thames   \n",
       "3  45000.00 2013-02-13 15:00:00     Wallace Hind Selection                UK   \n",
       "4  35000.04 2013-01-12 12:00:00        Greenhill Group Ltd   Eastern England   \n",
       "\n",
       "                 Category ContractType            OpenDate  \\\n",
       "0               Education    part_time 2012-11-27 12:00:00   \n",
       "1  Information Technology    full_time 2013-06-26 15:00:00   \n",
       "2  Information Technology    full_time 2012-10-18 15:00:00   \n",
       "3                   Sales    full_time 2012-12-15 15:00:00   \n",
       "4                   Sales    full_time 2012-12-29 12:00:00   \n",
       "\n",
       "                                               Title ContractTime        Id  \n",
       "0             Higher Level Teaching Assistant (HLTA)          NaN  39543361  \n",
       "1  Software Developers / Software Architects  Not...    Permanent  48425884  \n",
       "2                      Senior BI Consultant (Cognos)    Permanent  34161114  \n",
       "3  Technical Sales Manager, Pigments Fillers to S...          NaN  66180101  \n",
       "4                  Channel Account Manager  Software          NaN  89435195  "
      ]
     },
     "execution_count": 50,
     "metadata": {},
     "output_type": "execute_result"
    }
   ],
   "source": [
    "# Verify the changes\n",
    "print(\"Updated dataset with modified 'ContractType' column:\")\n",
    "data2.head()"
   ]
  },
  {
   "cell_type": "code",
   "execution_count": 51,
   "metadata": {},
   "outputs": [],
   "source": [
    "# Replace empty values in ContractTime and Company columns with 'non-specified'\n",
    "data2['ContractTime'].fillna('non-specified', inplace=True)\n",
    "data2['Company'].fillna('non-specified', inplace=True)"
   ]
  },
  {
   "cell_type": "code",
   "execution_count": 52,
   "metadata": {},
   "outputs": [],
   "source": [
    "# Add a new column 'SourceName' to df1 and fill with 'non-specified'\n",
    "data2['SourceName'] = 'www.jobhuntlisting.com'"
   ]
  },
  {
   "cell_type": "code",
   "execution_count": 53,
   "metadata": {},
   "outputs": [
    {
     "data": {
      "text/html": [
       "<div>\n",
       "<style scoped>\n",
       "    .dataframe tbody tr th:only-of-type {\n",
       "        vertical-align: middle;\n",
       "    }\n",
       "\n",
       "    .dataframe tbody tr th {\n",
       "        vertical-align: top;\n",
       "    }\n",
       "\n",
       "    .dataframe thead th {\n",
       "        text-align: right;\n",
       "    }\n",
       "</style>\n",
       "<table border=\"1\" class=\"dataframe\">\n",
       "  <thead>\n",
       "    <tr style=\"text-align: right;\">\n",
       "      <th></th>\n",
       "      <th>Salary</th>\n",
       "      <th>CloseDate</th>\n",
       "      <th>Company</th>\n",
       "      <th>Location</th>\n",
       "      <th>Category</th>\n",
       "      <th>ContractType</th>\n",
       "      <th>OpenDate</th>\n",
       "      <th>Title</th>\n",
       "      <th>ContractTime</th>\n",
       "      <th>Id</th>\n",
       "      <th>SourceName</th>\n",
       "    </tr>\n",
       "  </thead>\n",
       "  <tbody>\n",
       "    <tr>\n",
       "      <th>0</th>\n",
       "      <td>14400.00</td>\n",
       "      <td>2012-12-27 12:00:00</td>\n",
       "      <td>Protocol Education</td>\n",
       "      <td>UK</td>\n",
       "      <td>Education</td>\n",
       "      <td>part_time</td>\n",
       "      <td>2012-11-27 12:00:00</td>\n",
       "      <td>Higher Level Teaching Assistant (HLTA)</td>\n",
       "      <td>non-specified</td>\n",
       "      <td>39543361</td>\n",
       "      <td>www.jobhuntlisting.com</td>\n",
       "    </tr>\n",
       "    <tr>\n",
       "      <th>1</th>\n",
       "      <td>37500.00</td>\n",
       "      <td>2013-08-25 15:00:00</td>\n",
       "      <td>Cordius Ltd</td>\n",
       "      <td>UK</td>\n",
       "      <td>Information Technology</td>\n",
       "      <td>full_time</td>\n",
       "      <td>2013-06-26 15:00:00</td>\n",
       "      <td>Software Developers / Software Architects  Not...</td>\n",
       "      <td>Permanent</td>\n",
       "      <td>48425884</td>\n",
       "      <td>www.jobhuntlisting.com</td>\n",
       "    </tr>\n",
       "    <tr>\n",
       "      <th>2</th>\n",
       "      <td>51999.96</td>\n",
       "      <td>2013-01-16 15:00:00</td>\n",
       "      <td>Understanding Recruitment</td>\n",
       "      <td>Walton-On-Thames</td>\n",
       "      <td>Information Technology</td>\n",
       "      <td>full_time</td>\n",
       "      <td>2012-10-18 15:00:00</td>\n",
       "      <td>Senior BI Consultant (Cognos)</td>\n",
       "      <td>Permanent</td>\n",
       "      <td>34161114</td>\n",
       "      <td>www.jobhuntlisting.com</td>\n",
       "    </tr>\n",
       "    <tr>\n",
       "      <th>3</th>\n",
       "      <td>45000.00</td>\n",
       "      <td>2013-02-13 15:00:00</td>\n",
       "      <td>Wallace Hind Selection</td>\n",
       "      <td>UK</td>\n",
       "      <td>Sales</td>\n",
       "      <td>full_time</td>\n",
       "      <td>2012-12-15 15:00:00</td>\n",
       "      <td>Technical Sales Manager, Pigments Fillers to S...</td>\n",
       "      <td>non-specified</td>\n",
       "      <td>66180101</td>\n",
       "      <td>www.jobhuntlisting.com</td>\n",
       "    </tr>\n",
       "    <tr>\n",
       "      <th>4</th>\n",
       "      <td>35000.04</td>\n",
       "      <td>2013-01-12 12:00:00</td>\n",
       "      <td>Greenhill Group Ltd</td>\n",
       "      <td>Eastern England</td>\n",
       "      <td>Sales</td>\n",
       "      <td>full_time</td>\n",
       "      <td>2012-12-29 12:00:00</td>\n",
       "      <td>Channel Account Manager  Software</td>\n",
       "      <td>non-specified</td>\n",
       "      <td>89435195</td>\n",
       "      <td>www.jobhuntlisting.com</td>\n",
       "    </tr>\n",
       "  </tbody>\n",
       "</table>\n",
       "</div>"
      ],
      "text/plain": [
       "     Salary           CloseDate                    Company          Location  \\\n",
       "0  14400.00 2012-12-27 12:00:00         Protocol Education                UK   \n",
       "1  37500.00 2013-08-25 15:00:00                Cordius Ltd                UK   \n",
       "2  51999.96 2013-01-16 15:00:00  Understanding Recruitment  Walton-On-Thames   \n",
       "3  45000.00 2013-02-13 15:00:00     Wallace Hind Selection                UK   \n",
       "4  35000.04 2013-01-12 12:00:00        Greenhill Group Ltd   Eastern England   \n",
       "\n",
       "                 Category ContractType            OpenDate  \\\n",
       "0               Education    part_time 2012-11-27 12:00:00   \n",
       "1  Information Technology    full_time 2013-06-26 15:00:00   \n",
       "2  Information Technology    full_time 2012-10-18 15:00:00   \n",
       "3                   Sales    full_time 2012-12-15 15:00:00   \n",
       "4                   Sales    full_time 2012-12-29 12:00:00   \n",
       "\n",
       "                                               Title   ContractTime        Id  \\\n",
       "0             Higher Level Teaching Assistant (HLTA)  non-specified  39543361   \n",
       "1  Software Developers / Software Architects  Not...      Permanent  48425884   \n",
       "2                      Senior BI Consultant (Cognos)      Permanent  34161114   \n",
       "3  Technical Sales Manager, Pigments Fillers to S...  non-specified  66180101   \n",
       "4                  Channel Account Manager  Software  non-specified  89435195   \n",
       "\n",
       "               SourceName  \n",
       "0  www.jobhuntlisting.com  \n",
       "1  www.jobhuntlisting.com  \n",
       "2  www.jobhuntlisting.com  \n",
       "3  www.jobhuntlisting.com  \n",
       "4  www.jobhuntlisting.com  "
      ]
     },
     "execution_count": 53,
     "metadata": {},
     "output_type": "execute_result"
    }
   ],
   "source": [
    "data2.head()"
   ]
  },
  {
   "cell_type": "code",
   "execution_count": 54,
   "metadata": {},
   "outputs": [
    {
     "data": {
      "text/plain": [
       "Salary          0\n",
       "CloseDate       0\n",
       "Company         0\n",
       "Location        0\n",
       "Category        0\n",
       "ContractType    0\n",
       "OpenDate        0\n",
       "Title           0\n",
       "ContractTime    0\n",
       "Id              0\n",
       "SourceName      0\n",
       "dtype: int64"
      ]
     },
     "execution_count": 54,
     "metadata": {},
     "output_type": "execute_result"
    }
   ],
   "source": [
    "data2.isna().sum()"
   ]
  },
  {
   "cell_type": "code",
   "execution_count": 55,
   "metadata": {},
   "outputs": [
    {
     "data": {
      "text/plain": [
       "Id              0\n",
       "Title           0\n",
       "Location        0\n",
       "Company         0\n",
       "ContractType    0\n",
       "ContractTime    0\n",
       "Category        0\n",
       "Salary          0\n",
       "OpenDate        0\n",
       "CloseDate       0\n",
       "SourceName      0\n",
       "dtype: int64"
      ]
     },
     "execution_count": 55,
     "metadata": {},
     "output_type": "execute_result"
    }
   ],
   "source": [
    "data1.isna().sum()"
   ]
  },
  {
   "cell_type": "code",
   "execution_count": 56,
   "metadata": {},
   "outputs": [
    {
     "data": {
      "text/plain": [
       "array(['Education', 'Information Technology', 'Sales', 'Finance',\n",
       "       'Engineering', 'Health', 'Hospitality', 'Marketing'], dtype=object)"
      ]
     },
     "execution_count": 56,
     "metadata": {},
     "output_type": "execute_result"
    }
   ],
   "source": [
    "#inspecting Category Column\n",
    "data2['Category'].unique()"
   ]
  },
  {
   "cell_type": "code",
   "execution_count": 57,
   "metadata": {},
   "outputs": [
    {
     "data": {
      "text/plain": [
       "array(['PR, Advertising & Marketing Jobs', 'IT Jobs', 'Sales Jobs',\n",
       "       'Engineering Jobs', 'Accounting & Finance Jobs',\n",
       "       'Healthcare & Nursing Jobs', 'Teaching Jobs',\n",
       "       'Hospitality & Catering Jobs'], dtype=object)"
      ]
     },
     "execution_count": 57,
     "metadata": {},
     "output_type": "execute_result"
    }
   ],
   "source": [
    "data1['Category'].unique()"
   ]
  },
  {
   "cell_type": "code",
   "execution_count": 58,
   "metadata": {},
   "outputs": [],
   "source": [
    "column_mapping = {\n",
    "    'Information Technology' : 'IT Jobs',\n",
    "    'Sales': 'Sales Jobs',\n",
    "    'Engineering': 'Engineering Jobs',\n",
    "    'Finance': 'Accounting & Finance Jobs',\n",
    "    'Marketing' : 'PR, Advertising & Marketing Jobs',\n",
    "    'Hospitality' : 'Hospitality & Catering Jobs',\n",
    "    'Education' : 'Teaching Jobs',\n",
    "    'Health' : 'Healthcare & Nursing Jobs'\n",
    "}"
   ]
  },
  {
   "cell_type": "code",
   "execution_count": 59,
   "metadata": {},
   "outputs": [],
   "source": [
    "data2['Category'] = data2['Category'].map(column_mapping)"
   ]
  },
  {
   "cell_type": "code",
   "execution_count": 60,
   "metadata": {},
   "outputs": [
    {
     "data": {
      "text/plain": [
       "array(['Teaching Jobs', 'IT Jobs', 'Sales Jobs',\n",
       "       'Accounting & Finance Jobs', 'Engineering Jobs',\n",
       "       'Healthcare & Nursing Jobs', 'Hospitality & Catering Jobs',\n",
       "       'PR, Advertising & Marketing Jobs'], dtype=object)"
      ]
     },
     "execution_count": 60,
     "metadata": {},
     "output_type": "execute_result"
    }
   ],
   "source": [
    "data2['Category'].unique()"
   ]
  },
  {
   "cell_type": "code",
   "execution_count": 61,
   "metadata": {},
   "outputs": [
    {
     "data": {
      "text/html": [
       "<div>\n",
       "<style scoped>\n",
       "    .dataframe tbody tr th:only-of-type {\n",
       "        vertical-align: middle;\n",
       "    }\n",
       "\n",
       "    .dataframe tbody tr th {\n",
       "        vertical-align: top;\n",
       "    }\n",
       "\n",
       "    .dataframe thead th {\n",
       "        text-align: right;\n",
       "    }\n",
       "</style>\n",
       "<table border=\"1\" class=\"dataframe\">\n",
       "  <thead>\n",
       "    <tr style=\"text-align: right;\">\n",
       "      <th></th>\n",
       "      <th>Salary</th>\n",
       "      <th>CloseDate</th>\n",
       "      <th>Company</th>\n",
       "      <th>Location</th>\n",
       "      <th>Category</th>\n",
       "      <th>ContractType</th>\n",
       "      <th>OpenDate</th>\n",
       "      <th>Title</th>\n",
       "      <th>ContractTime</th>\n",
       "      <th>Id</th>\n",
       "      <th>SourceName</th>\n",
       "    </tr>\n",
       "  </thead>\n",
       "  <tbody>\n",
       "    <tr>\n",
       "      <th>0</th>\n",
       "      <td>14400.00</td>\n",
       "      <td>2012-12-27 12:00:00</td>\n",
       "      <td>Protocol Education</td>\n",
       "      <td>UK</td>\n",
       "      <td>Teaching Jobs</td>\n",
       "      <td>part_time</td>\n",
       "      <td>2012-11-27 12:00:00</td>\n",
       "      <td>Higher Level Teaching Assistant (HLTA)</td>\n",
       "      <td>non-specified</td>\n",
       "      <td>39543361</td>\n",
       "      <td>www.jobhuntlisting.com</td>\n",
       "    </tr>\n",
       "    <tr>\n",
       "      <th>1</th>\n",
       "      <td>37500.00</td>\n",
       "      <td>2013-08-25 15:00:00</td>\n",
       "      <td>Cordius Ltd</td>\n",
       "      <td>UK</td>\n",
       "      <td>IT Jobs</td>\n",
       "      <td>full_time</td>\n",
       "      <td>2013-06-26 15:00:00</td>\n",
       "      <td>Software Developers / Software Architects  Not...</td>\n",
       "      <td>Permanent</td>\n",
       "      <td>48425884</td>\n",
       "      <td>www.jobhuntlisting.com</td>\n",
       "    </tr>\n",
       "    <tr>\n",
       "      <th>2</th>\n",
       "      <td>51999.96</td>\n",
       "      <td>2013-01-16 15:00:00</td>\n",
       "      <td>Understanding Recruitment</td>\n",
       "      <td>Walton-On-Thames</td>\n",
       "      <td>IT Jobs</td>\n",
       "      <td>full_time</td>\n",
       "      <td>2012-10-18 15:00:00</td>\n",
       "      <td>Senior BI Consultant (Cognos)</td>\n",
       "      <td>Permanent</td>\n",
       "      <td>34161114</td>\n",
       "      <td>www.jobhuntlisting.com</td>\n",
       "    </tr>\n",
       "    <tr>\n",
       "      <th>3</th>\n",
       "      <td>45000.00</td>\n",
       "      <td>2013-02-13 15:00:00</td>\n",
       "      <td>Wallace Hind Selection</td>\n",
       "      <td>UK</td>\n",
       "      <td>Sales Jobs</td>\n",
       "      <td>full_time</td>\n",
       "      <td>2012-12-15 15:00:00</td>\n",
       "      <td>Technical Sales Manager, Pigments Fillers to S...</td>\n",
       "      <td>non-specified</td>\n",
       "      <td>66180101</td>\n",
       "      <td>www.jobhuntlisting.com</td>\n",
       "    </tr>\n",
       "    <tr>\n",
       "      <th>4</th>\n",
       "      <td>35000.04</td>\n",
       "      <td>2013-01-12 12:00:00</td>\n",
       "      <td>Greenhill Group Ltd</td>\n",
       "      <td>Eastern England</td>\n",
       "      <td>Sales Jobs</td>\n",
       "      <td>full_time</td>\n",
       "      <td>2012-12-29 12:00:00</td>\n",
       "      <td>Channel Account Manager  Software</td>\n",
       "      <td>non-specified</td>\n",
       "      <td>89435195</td>\n",
       "      <td>www.jobhuntlisting.com</td>\n",
       "    </tr>\n",
       "  </tbody>\n",
       "</table>\n",
       "</div>"
      ],
      "text/plain": [
       "     Salary           CloseDate                    Company          Location  \\\n",
       "0  14400.00 2012-12-27 12:00:00         Protocol Education                UK   \n",
       "1  37500.00 2013-08-25 15:00:00                Cordius Ltd                UK   \n",
       "2  51999.96 2013-01-16 15:00:00  Understanding Recruitment  Walton-On-Thames   \n",
       "3  45000.00 2013-02-13 15:00:00     Wallace Hind Selection                UK   \n",
       "4  35000.04 2013-01-12 12:00:00        Greenhill Group Ltd   Eastern England   \n",
       "\n",
       "        Category ContractType            OpenDate  \\\n",
       "0  Teaching Jobs    part_time 2012-11-27 12:00:00   \n",
       "1        IT Jobs    full_time 2013-06-26 15:00:00   \n",
       "2        IT Jobs    full_time 2012-10-18 15:00:00   \n",
       "3     Sales Jobs    full_time 2012-12-15 15:00:00   \n",
       "4     Sales Jobs    full_time 2012-12-29 12:00:00   \n",
       "\n",
       "                                               Title   ContractTime        Id  \\\n",
       "0             Higher Level Teaching Assistant (HLTA)  non-specified  39543361   \n",
       "1  Software Developers / Software Architects  Not...      Permanent  48425884   \n",
       "2                      Senior BI Consultant (Cognos)      Permanent  34161114   \n",
       "3  Technical Sales Manager, Pigments Fillers to S...  non-specified  66180101   \n",
       "4                  Channel Account Manager  Software  non-specified  89435195   \n",
       "\n",
       "               SourceName  \n",
       "0  www.jobhuntlisting.com  \n",
       "1  www.jobhuntlisting.com  \n",
       "2  www.jobhuntlisting.com  \n",
       "3  www.jobhuntlisting.com  \n",
       "4  www.jobhuntlisting.com  "
      ]
     },
     "execution_count": 61,
     "metadata": {},
     "output_type": "execute_result"
    }
   ],
   "source": [
    "data2.head()"
   ]
  },
  {
   "cell_type": "code",
   "execution_count": 62,
   "metadata": {},
   "outputs": [],
   "source": [
    "new_order = ['Id','Title','Location','Company','ContractType','ContractTime','Category','Salary','OpenDate','CloseDate','SourceName']\n",
    "data2 = data2[new_order]"
   ]
  },
  {
   "cell_type": "code",
   "execution_count": 63,
   "metadata": {},
   "outputs": [
    {
     "data": {
      "text/html": [
       "<div>\n",
       "<style scoped>\n",
       "    .dataframe tbody tr th:only-of-type {\n",
       "        vertical-align: middle;\n",
       "    }\n",
       "\n",
       "    .dataframe tbody tr th {\n",
       "        vertical-align: top;\n",
       "    }\n",
       "\n",
       "    .dataframe thead th {\n",
       "        text-align: right;\n",
       "    }\n",
       "</style>\n",
       "<table border=\"1\" class=\"dataframe\">\n",
       "  <thead>\n",
       "    <tr style=\"text-align: right;\">\n",
       "      <th></th>\n",
       "      <th>Id</th>\n",
       "      <th>Title</th>\n",
       "      <th>Location</th>\n",
       "      <th>Company</th>\n",
       "      <th>ContractType</th>\n",
       "      <th>ContractTime</th>\n",
       "      <th>Category</th>\n",
       "      <th>Salary</th>\n",
       "      <th>OpenDate</th>\n",
       "      <th>CloseDate</th>\n",
       "      <th>SourceName</th>\n",
       "    </tr>\n",
       "  </thead>\n",
       "  <tbody>\n",
       "    <tr>\n",
       "      <th>0</th>\n",
       "      <td>39543361</td>\n",
       "      <td>Higher Level Teaching Assistant (HLTA)</td>\n",
       "      <td>UK</td>\n",
       "      <td>Protocol Education</td>\n",
       "      <td>part_time</td>\n",
       "      <td>non-specified</td>\n",
       "      <td>Teaching Jobs</td>\n",
       "      <td>14400.00</td>\n",
       "      <td>2012-11-27 12:00:00</td>\n",
       "      <td>2012-12-27 12:00:00</td>\n",
       "      <td>www.jobhuntlisting.com</td>\n",
       "    </tr>\n",
       "    <tr>\n",
       "      <th>1</th>\n",
       "      <td>48425884</td>\n",
       "      <td>Software Developers / Software Architects  Not...</td>\n",
       "      <td>UK</td>\n",
       "      <td>Cordius Ltd</td>\n",
       "      <td>full_time</td>\n",
       "      <td>Permanent</td>\n",
       "      <td>IT Jobs</td>\n",
       "      <td>37500.00</td>\n",
       "      <td>2013-06-26 15:00:00</td>\n",
       "      <td>2013-08-25 15:00:00</td>\n",
       "      <td>www.jobhuntlisting.com</td>\n",
       "    </tr>\n",
       "    <tr>\n",
       "      <th>2</th>\n",
       "      <td>34161114</td>\n",
       "      <td>Senior BI Consultant (Cognos)</td>\n",
       "      <td>Walton-On-Thames</td>\n",
       "      <td>Understanding Recruitment</td>\n",
       "      <td>full_time</td>\n",
       "      <td>Permanent</td>\n",
       "      <td>IT Jobs</td>\n",
       "      <td>51999.96</td>\n",
       "      <td>2012-10-18 15:00:00</td>\n",
       "      <td>2013-01-16 15:00:00</td>\n",
       "      <td>www.jobhuntlisting.com</td>\n",
       "    </tr>\n",
       "    <tr>\n",
       "      <th>3</th>\n",
       "      <td>66180101</td>\n",
       "      <td>Technical Sales Manager, Pigments Fillers to S...</td>\n",
       "      <td>UK</td>\n",
       "      <td>Wallace Hind Selection</td>\n",
       "      <td>full_time</td>\n",
       "      <td>non-specified</td>\n",
       "      <td>Sales Jobs</td>\n",
       "      <td>45000.00</td>\n",
       "      <td>2012-12-15 15:00:00</td>\n",
       "      <td>2013-02-13 15:00:00</td>\n",
       "      <td>www.jobhuntlisting.com</td>\n",
       "    </tr>\n",
       "    <tr>\n",
       "      <th>4</th>\n",
       "      <td>89435195</td>\n",
       "      <td>Channel Account Manager  Software</td>\n",
       "      <td>Eastern England</td>\n",
       "      <td>Greenhill Group Ltd</td>\n",
       "      <td>full_time</td>\n",
       "      <td>non-specified</td>\n",
       "      <td>Sales Jobs</td>\n",
       "      <td>35000.04</td>\n",
       "      <td>2012-12-29 12:00:00</td>\n",
       "      <td>2013-01-12 12:00:00</td>\n",
       "      <td>www.jobhuntlisting.com</td>\n",
       "    </tr>\n",
       "  </tbody>\n",
       "</table>\n",
       "</div>"
      ],
      "text/plain": [
       "         Id                                              Title  \\\n",
       "0  39543361             Higher Level Teaching Assistant (HLTA)   \n",
       "1  48425884  Software Developers / Software Architects  Not...   \n",
       "2  34161114                      Senior BI Consultant (Cognos)   \n",
       "3  66180101  Technical Sales Manager, Pigments Fillers to S...   \n",
       "4  89435195                  Channel Account Manager  Software   \n",
       "\n",
       "           Location                    Company ContractType   ContractTime  \\\n",
       "0                UK         Protocol Education    part_time  non-specified   \n",
       "1                UK                Cordius Ltd    full_time      Permanent   \n",
       "2  Walton-On-Thames  Understanding Recruitment    full_time      Permanent   \n",
       "3                UK     Wallace Hind Selection    full_time  non-specified   \n",
       "4   Eastern England        Greenhill Group Ltd    full_time  non-specified   \n",
       "\n",
       "        Category    Salary            OpenDate           CloseDate  \\\n",
       "0  Teaching Jobs  14400.00 2012-11-27 12:00:00 2012-12-27 12:00:00   \n",
       "1        IT Jobs  37500.00 2013-06-26 15:00:00 2013-08-25 15:00:00   \n",
       "2        IT Jobs  51999.96 2012-10-18 15:00:00 2013-01-16 15:00:00   \n",
       "3     Sales Jobs  45000.00 2012-12-15 15:00:00 2013-02-13 15:00:00   \n",
       "4     Sales Jobs  35000.04 2012-12-29 12:00:00 2013-01-12 12:00:00   \n",
       "\n",
       "               SourceName  \n",
       "0  www.jobhuntlisting.com  \n",
       "1  www.jobhuntlisting.com  \n",
       "2  www.jobhuntlisting.com  \n",
       "3  www.jobhuntlisting.com  \n",
       "4  www.jobhuntlisting.com  "
      ]
     },
     "execution_count": 63,
     "metadata": {},
     "output_type": "execute_result"
    }
   ],
   "source": [
    "data2.head()"
   ]
  },
  {
   "cell_type": "code",
   "execution_count": 64,
   "metadata": {},
   "outputs": [
    {
     "data": {
      "text/html": [
       "<div>\n",
       "<style scoped>\n",
       "    .dataframe tbody tr th:only-of-type {\n",
       "        vertical-align: middle;\n",
       "    }\n",
       "\n",
       "    .dataframe tbody tr th {\n",
       "        vertical-align: top;\n",
       "    }\n",
       "\n",
       "    .dataframe thead th {\n",
       "        text-align: right;\n",
       "    }\n",
       "</style>\n",
       "<table border=\"1\" class=\"dataframe\">\n",
       "  <thead>\n",
       "    <tr style=\"text-align: right;\">\n",
       "      <th></th>\n",
       "      <th>Id</th>\n",
       "      <th>Title</th>\n",
       "      <th>Location</th>\n",
       "      <th>Company</th>\n",
       "      <th>ContractType</th>\n",
       "      <th>ContractTime</th>\n",
       "      <th>Category</th>\n",
       "      <th>Salary</th>\n",
       "      <th>OpenDate</th>\n",
       "      <th>CloseDate</th>\n",
       "      <th>SourceName</th>\n",
       "    </tr>\n",
       "  </thead>\n",
       "  <tbody>\n",
       "    <tr>\n",
       "      <th>0</th>\n",
       "      <td>70519984</td>\n",
       "      <td>International Marketing Manager / Director</td>\n",
       "      <td>Manchester</td>\n",
       "      <td>A2Z School of English</td>\n",
       "      <td>non specified</td>\n",
       "      <td>permanent</td>\n",
       "      <td>PR, Advertising &amp; Marketing Jobs</td>\n",
       "      <td>32500.0</td>\n",
       "      <td>2012-05-16 12:00:00</td>\n",
       "      <td>2012-06-15 12:00:00</td>\n",
       "      <td>jobsite.co.uk</td>\n",
       "    </tr>\n",
       "    <tr>\n",
       "      <th>1</th>\n",
       "      <td>71857396</td>\n",
       "      <td>Web Developer  HTML, CSS, Wordpress (34 days p...</td>\n",
       "      <td>UK</td>\n",
       "      <td>Recruitment Revolution.Com Limited</td>\n",
       "      <td>non specified</td>\n",
       "      <td>permanent</td>\n",
       "      <td>IT Jobs</td>\n",
       "      <td>20500.0</td>\n",
       "      <td>2013-05-18 15:00:00</td>\n",
       "      <td>2013-06-17 15:00:00</td>\n",
       "      <td>jobsite.co.uk</td>\n",
       "    </tr>\n",
       "    <tr>\n",
       "      <th>2</th>\n",
       "      <td>71444746</td>\n",
       "      <td>Sales Advisor (Events) Swindon covering SN , G...</td>\n",
       "      <td>UK</td>\n",
       "      <td>SMRS Limited  new</td>\n",
       "      <td>non specified</td>\n",
       "      <td>permanent</td>\n",
       "      <td>Sales Jobs</td>\n",
       "      <td>34000.0</td>\n",
       "      <td>2013-08-22 12:00:00</td>\n",
       "      <td>2013-10-21 12:00:00</td>\n",
       "      <td>jobsite.co.uk</td>\n",
       "    </tr>\n",
       "    <tr>\n",
       "      <th>3</th>\n",
       "      <td>71707588</td>\n",
       "      <td>Tester, Software Tester, Test Engineer</td>\n",
       "      <td>Leeds</td>\n",
       "      <td>Estio Technology Recruitment Limited</td>\n",
       "      <td>non specified</td>\n",
       "      <td>permanent</td>\n",
       "      <td>IT Jobs</td>\n",
       "      <td>26500.0</td>\n",
       "      <td>2013-07-17 00:00:00</td>\n",
       "      <td>2013-08-16 00:00:00</td>\n",
       "      <td>jobsite.co.uk</td>\n",
       "    </tr>\n",
       "    <tr>\n",
       "      <th>4</th>\n",
       "      <td>72679431</td>\n",
       "      <td>Territory Sales / Field Sales Executive</td>\n",
       "      <td>Norwich</td>\n",
       "      <td>Virtuoso Recruitment Limited</td>\n",
       "      <td>non specified</td>\n",
       "      <td>permanent</td>\n",
       "      <td>Sales Jobs</td>\n",
       "      <td>29500.0</td>\n",
       "      <td>2013-07-10 00:00:00</td>\n",
       "      <td>2013-08-09 00:00:00</td>\n",
       "      <td>jobsite.co.uk</td>\n",
       "    </tr>\n",
       "  </tbody>\n",
       "</table>\n",
       "</div>"
      ],
      "text/plain": [
       "         Id                                              Title    Location  \\\n",
       "0  70519984         International Marketing Manager / Director  Manchester   \n",
       "1  71857396  Web Developer  HTML, CSS, Wordpress (34 days p...          UK   \n",
       "2  71444746  Sales Advisor (Events) Swindon covering SN , G...          UK   \n",
       "3  71707588             Tester, Software Tester, Test Engineer       Leeds   \n",
       "4  72679431            Territory Sales / Field Sales Executive     Norwich   \n",
       "\n",
       "                                Company   ContractType ContractTime  \\\n",
       "0                 A2Z School of English  non specified    permanent   \n",
       "1    Recruitment Revolution.Com Limited  non specified    permanent   \n",
       "2                     SMRS Limited  new  non specified    permanent   \n",
       "3  Estio Technology Recruitment Limited  non specified    permanent   \n",
       "4          Virtuoso Recruitment Limited  non specified    permanent   \n",
       "\n",
       "                           Category   Salary             OpenDate  \\\n",
       "0  PR, Advertising & Marketing Jobs  32500.0  2012-05-16 12:00:00   \n",
       "1                           IT Jobs  20500.0  2013-05-18 15:00:00   \n",
       "2                        Sales Jobs  34000.0  2013-08-22 12:00:00   \n",
       "3                           IT Jobs  26500.0  2013-07-17 00:00:00   \n",
       "4                        Sales Jobs  29500.0  2013-07-10 00:00:00   \n",
       "\n",
       "             CloseDate     SourceName  \n",
       "0  2012-06-15 12:00:00  jobsite.co.uk  \n",
       "1  2013-06-17 15:00:00  jobsite.co.uk  \n",
       "2  2013-10-21 12:00:00  jobsite.co.uk  \n",
       "3  2013-08-16 00:00:00  jobsite.co.uk  \n",
       "4  2013-08-09 00:00:00  jobsite.co.uk  "
      ]
     },
     "execution_count": 64,
     "metadata": {},
     "output_type": "execute_result"
    }
   ],
   "source": [
    "data1.head()"
   ]
  },
  {
   "cell_type": "markdown",
   "metadata": {},
   "source": [
    "***Inference***\n",
    "- Null Values Handled\n",
    "- Contract Time and Contract type columns have the required values\n",
    "- Source Column has been inserted\n",
    "- Category Column values have been corrected as per dataset1\n",
    "- Columns have been reordered as per the dataset 1"
   ]
  },
  {
   "cell_type": "markdown",
   "metadata": {},
   "source": [
    "### 3. Merging data\n",
    "\n",
    "We can now merge the two datasets into one"
   ]
  },
  {
   "cell_type": "code",
   "execution_count": 65,
   "metadata": {},
   "outputs": [
    {
     "name": "stdout",
     "output_type": "stream",
     "text": [
      "Unified table after Merging:\n"
     ]
    },
    {
     "data": {
      "text/html": [
       "<div>\n",
       "<style scoped>\n",
       "    .dataframe tbody tr th:only-of-type {\n",
       "        vertical-align: middle;\n",
       "    }\n",
       "\n",
       "    .dataframe tbody tr th {\n",
       "        vertical-align: top;\n",
       "    }\n",
       "\n",
       "    .dataframe thead th {\n",
       "        text-align: right;\n",
       "    }\n",
       "</style>\n",
       "<table border=\"1\" class=\"dataframe\">\n",
       "  <thead>\n",
       "    <tr style=\"text-align: right;\">\n",
       "      <th></th>\n",
       "      <th>Id</th>\n",
       "      <th>Title</th>\n",
       "      <th>Location</th>\n",
       "      <th>Company</th>\n",
       "      <th>ContractType</th>\n",
       "      <th>ContractTime</th>\n",
       "      <th>Category</th>\n",
       "      <th>Salary</th>\n",
       "      <th>OpenDate</th>\n",
       "      <th>CloseDate</th>\n",
       "      <th>SourceName</th>\n",
       "    </tr>\n",
       "  </thead>\n",
       "  <tbody>\n",
       "    <tr>\n",
       "      <th>0</th>\n",
       "      <td>70519984</td>\n",
       "      <td>International Marketing Manager / Director</td>\n",
       "      <td>Manchester</td>\n",
       "      <td>A2Z School of English</td>\n",
       "      <td>non specified</td>\n",
       "      <td>permanent</td>\n",
       "      <td>PR, Advertising &amp; Marketing Jobs</td>\n",
       "      <td>32500.0</td>\n",
       "      <td>2012-05-16 12:00:00</td>\n",
       "      <td>2012-06-15 12:00:00</td>\n",
       "      <td>jobsite.co.uk</td>\n",
       "    </tr>\n",
       "    <tr>\n",
       "      <th>1</th>\n",
       "      <td>71857396</td>\n",
       "      <td>Web Developer  HTML, CSS, Wordpress (34 days p...</td>\n",
       "      <td>UK</td>\n",
       "      <td>Recruitment Revolution.Com Limited</td>\n",
       "      <td>non specified</td>\n",
       "      <td>permanent</td>\n",
       "      <td>IT Jobs</td>\n",
       "      <td>20500.0</td>\n",
       "      <td>2013-05-18 15:00:00</td>\n",
       "      <td>2013-06-17 15:00:00</td>\n",
       "      <td>jobsite.co.uk</td>\n",
       "    </tr>\n",
       "    <tr>\n",
       "      <th>2</th>\n",
       "      <td>71444746</td>\n",
       "      <td>Sales Advisor (Events) Swindon covering SN , G...</td>\n",
       "      <td>UK</td>\n",
       "      <td>SMRS Limited  new</td>\n",
       "      <td>non specified</td>\n",
       "      <td>permanent</td>\n",
       "      <td>Sales Jobs</td>\n",
       "      <td>34000.0</td>\n",
       "      <td>2013-08-22 12:00:00</td>\n",
       "      <td>2013-10-21 12:00:00</td>\n",
       "      <td>jobsite.co.uk</td>\n",
       "    </tr>\n",
       "    <tr>\n",
       "      <th>3</th>\n",
       "      <td>71707588</td>\n",
       "      <td>Tester, Software Tester, Test Engineer</td>\n",
       "      <td>Leeds</td>\n",
       "      <td>Estio Technology Recruitment Limited</td>\n",
       "      <td>non specified</td>\n",
       "      <td>permanent</td>\n",
       "      <td>IT Jobs</td>\n",
       "      <td>26500.0</td>\n",
       "      <td>2013-07-17 00:00:00</td>\n",
       "      <td>2013-08-16 00:00:00</td>\n",
       "      <td>jobsite.co.uk</td>\n",
       "    </tr>\n",
       "    <tr>\n",
       "      <th>4</th>\n",
       "      <td>72679431</td>\n",
       "      <td>Territory Sales / Field Sales Executive</td>\n",
       "      <td>Norwich</td>\n",
       "      <td>Virtuoso Recruitment Limited</td>\n",
       "      <td>non specified</td>\n",
       "      <td>permanent</td>\n",
       "      <td>Sales Jobs</td>\n",
       "      <td>29500.0</td>\n",
       "      <td>2013-07-10 00:00:00</td>\n",
       "      <td>2013-08-09 00:00:00</td>\n",
       "      <td>jobsite.co.uk</td>\n",
       "    </tr>\n",
       "  </tbody>\n",
       "</table>\n",
       "</div>"
      ],
      "text/plain": [
       "         Id                                              Title    Location  \\\n",
       "0  70519984         International Marketing Manager / Director  Manchester   \n",
       "1  71857396  Web Developer  HTML, CSS, Wordpress (34 days p...          UK   \n",
       "2  71444746  Sales Advisor (Events) Swindon covering SN , G...          UK   \n",
       "3  71707588             Tester, Software Tester, Test Engineer       Leeds   \n",
       "4  72679431            Territory Sales / Field Sales Executive     Norwich   \n",
       "\n",
       "                                Company   ContractType ContractTime  \\\n",
       "0                 A2Z School of English  non specified    permanent   \n",
       "1    Recruitment Revolution.Com Limited  non specified    permanent   \n",
       "2                     SMRS Limited  new  non specified    permanent   \n",
       "3  Estio Technology Recruitment Limited  non specified    permanent   \n",
       "4          Virtuoso Recruitment Limited  non specified    permanent   \n",
       "\n",
       "                           Category   Salary             OpenDate  \\\n",
       "0  PR, Advertising & Marketing Jobs  32500.0  2012-05-16 12:00:00   \n",
       "1                           IT Jobs  20500.0  2013-05-18 15:00:00   \n",
       "2                        Sales Jobs  34000.0  2013-08-22 12:00:00   \n",
       "3                           IT Jobs  26500.0  2013-07-17 00:00:00   \n",
       "4                        Sales Jobs  29500.0  2013-07-10 00:00:00   \n",
       "\n",
       "             CloseDate     SourceName  \n",
       "0  2012-06-15 12:00:00  jobsite.co.uk  \n",
       "1  2013-06-17 15:00:00  jobsite.co.uk  \n",
       "2  2013-10-21 12:00:00  jobsite.co.uk  \n",
       "3  2013-08-16 00:00:00  jobsite.co.uk  \n",
       "4  2013-08-09 00:00:00  jobsite.co.uk  "
      ]
     },
     "execution_count": 65,
     "metadata": {},
     "output_type": "execute_result"
    }
   ],
   "source": [
    "\n",
    "# Concatenate the two data frames vertically\n",
    "merged_data = pd.concat([data1, data2],ignore_index = True)\n",
    "\n",
    "# Display the unified table\n",
    "print(\"Unified table after Merging:\")\n",
    "merged_data.head()"
   ]
  },
  {
   "cell_type": "code",
   "execution_count": 66,
   "metadata": {},
   "outputs": [
    {
     "data": {
      "text/plain": [
       "(55745, 11)"
      ]
     },
     "execution_count": 66,
     "metadata": {},
     "output_type": "execute_result"
    }
   ],
   "source": [
    "merged_data.shape"
   ]
  },
  {
   "cell_type": "code",
   "execution_count": 67,
   "metadata": {},
   "outputs": [
    {
     "name": "stdout",
     "output_type": "stream",
     "text": [
      "<class 'pandas.core.frame.DataFrame'>\n",
      "RangeIndex: 55745 entries, 0 to 55744\n",
      "Data columns (total 11 columns):\n",
      " #   Column        Non-Null Count  Dtype  \n",
      "---  ------        --------------  -----  \n",
      " 0   Id            55745 non-null  int64  \n",
      " 1   Title         55745 non-null  object \n",
      " 2   Location      55745 non-null  object \n",
      " 3   Company       55745 non-null  object \n",
      " 4   ContractType  55745 non-null  object \n",
      " 5   ContractTime  55745 non-null  object \n",
      " 6   Category      55745 non-null  object \n",
      " 7   Salary        55745 non-null  float64\n",
      " 8   OpenDate      55745 non-null  object \n",
      " 9   CloseDate     55745 non-null  object \n",
      " 10  SourceName    55745 non-null  object \n",
      "dtypes: float64(1), int64(1), object(9)\n",
      "memory usage: 4.7+ MB\n"
     ]
    }
   ],
   "source": [
    "merged_data.info()"
   ]
  },
  {
   "cell_type": "markdown",
   "metadata": {},
   "source": [
    "### 4. Resolving data conflicts:\n",
    "We need to check for certain data conflicts after we have the merged dataframe. \n"
   ]
  },
  {
   "cell_type": "markdown",
   "metadata": {},
   "source": [
    "#### Conflict 1: Duplicate rows\n",
    "When we integrate multiple dataframes together, there might be duplicate records that we need to further deal with. \n",
    "Hence we examine if there are duplicate rows in our merged dataframe"
   ]
  },
  {
   "cell_type": "code",
   "execution_count": 68,
   "metadata": {},
   "outputs": [
    {
     "name": "stdout",
     "output_type": "stream",
     "text": [
      "There are 0 duplicate records found\n"
     ]
    },
    {
     "data": {
      "text/html": [
       "<div>\n",
       "<style scoped>\n",
       "    .dataframe tbody tr th:only-of-type {\n",
       "        vertical-align: middle;\n",
       "    }\n",
       "\n",
       "    .dataframe tbody tr th {\n",
       "        vertical-align: top;\n",
       "    }\n",
       "\n",
       "    .dataframe thead th {\n",
       "        text-align: right;\n",
       "    }\n",
       "</style>\n",
       "<table border=\"1\" class=\"dataframe\">\n",
       "  <thead>\n",
       "    <tr style=\"text-align: right;\">\n",
       "      <th></th>\n",
       "      <th>Id</th>\n",
       "      <th>Title</th>\n",
       "      <th>Location</th>\n",
       "      <th>Company</th>\n",
       "      <th>ContractType</th>\n",
       "      <th>ContractTime</th>\n",
       "      <th>Category</th>\n",
       "      <th>Salary</th>\n",
       "      <th>OpenDate</th>\n",
       "      <th>CloseDate</th>\n",
       "      <th>SourceName</th>\n",
       "    </tr>\n",
       "  </thead>\n",
       "  <tbody>\n",
       "  </tbody>\n",
       "</table>\n",
       "</div>"
      ],
      "text/plain": [
       "Empty DataFrame\n",
       "Columns: [Id, Title, Location, Company, ContractType, ContractTime, Category, Salary, OpenDate, CloseDate, SourceName]\n",
       "Index: []"
      ]
     },
     "execution_count": 68,
     "metadata": {},
     "output_type": "execute_result"
    }
   ],
   "source": [
    "duplicates = merged_data[merged_data.duplicated(keep=False)] # showing all duplicated records\n",
    "print (\"There are \"+ str(len(duplicates)) + \" duplicate records found\")\n",
    "duplicates.sort_values(by=duplicates.columns.tolist()).head(10)\n"
   ]
  },
  {
   "cell_type": "code",
   "execution_count": 69,
   "metadata": {},
   "outputs": [
    {
     "name": "stdout",
     "output_type": "stream",
     "text": [
      "No duplicate IDs found.\n"
     ]
    }
   ],
   "source": [
    "#Check for duplicate IDs\n",
    "duplicate_ids = merged_data.index[merged_data.index.duplicated()]\n",
    "if len(duplicate_ids) == 0:\n",
    "    print(\"No duplicate IDs found.\")\n",
    "else:\n",
    "    print(\"Duplicate IDs found in unified_df:\", duplicate_ids)\n"
   ]
  },
  {
   "cell_type": "markdown",
   "metadata": {},
   "source": [
    "***Inference:***\n",
    "\n",
    "Here we do not have any duplicate records or duplicate Ids in our final merged data frame. Hence we dont have to handle the columns"
   ]
  },
  {
   "cell_type": "markdown",
   "metadata": {
    "collapsed": true
   },
   "source": [
    "**Conflict 2 : Missing Values**"
   ]
  },
  {
   "cell_type": "code",
   "execution_count": 70,
   "metadata": {},
   "outputs": [
    {
     "data": {
      "text/plain": [
       "Id              0\n",
       "Title           0\n",
       "Location        0\n",
       "Company         0\n",
       "ContractType    0\n",
       "ContractTime    0\n",
       "Category        0\n",
       "Salary          0\n",
       "OpenDate        0\n",
       "CloseDate       0\n",
       "SourceName      0\n",
       "dtype: int64"
      ]
     },
     "execution_count": 70,
     "metadata": {},
     "output_type": "execute_result"
    }
   ],
   "source": [
    "# Code to inspect data and identify conflicts in data\n",
    "merged_data.isna().sum()"
   ]
  },
  {
   "cell_type": "code",
   "execution_count": 71,
   "metadata": {},
   "outputs": [
    {
     "name": "stdout",
     "output_type": "stream",
     "text": [
      "No null values in unified_df.\n"
     ]
    }
   ],
   "source": [
    "null_counts = merged_data.isnull().sum()\n",
    "\n",
    "# Display columns with null values and their counts\n",
    "columns_with_nulls = null_counts[null_counts > 0]\n",
    "if not columns_with_nulls.empty:\n",
    "    print(\"Columns with null values and their counts:\")\n",
    "    print(columns_with_nulls)\n",
    "else:\n",
    "    print(\"No null values in unified_df.\")"
   ]
  },
  {
   "cell_type": "markdown",
   "metadata": {},
   "source": [
    "***Inferene***\n",
    "- Null values and Duplicate values are inspected and were found to be absent"
   ]
  },
  {
   "cell_type": "code",
   "execution_count": 73,
   "metadata": {},
   "outputs": [],
   "source": [
    "# Convert OpenDate and CloseDate columns to datetime objects\n",
    "merged_data['OpenDate'] = pd.to_datetime(merged_data['OpenDate'], format='%Y-%m-%d %H:%M:%S', errors='coerce')\n",
    "merged_data['CloseDate'] = pd.to_datetime(merged_data['CloseDate'], format='%Y-%m-%d %H:%M:%S', errors='coerce')"
   ]
  },
  {
   "cell_type": "code",
   "execution_count": 74,
   "metadata": {},
   "outputs": [
    {
     "name": "stdout",
     "output_type": "stream",
     "text": [
      "<class 'pandas.core.frame.DataFrame'>\n",
      "RangeIndex: 55745 entries, 0 to 55744\n",
      "Data columns (total 11 columns):\n",
      " #   Column        Non-Null Count  Dtype         \n",
      "---  ------        --------------  -----         \n",
      " 0   Id            55745 non-null  int64         \n",
      " 1   Title         55745 non-null  object        \n",
      " 2   Location      55745 non-null  object        \n",
      " 3   Company       55745 non-null  object        \n",
      " 4   ContractType  55745 non-null  object        \n",
      " 5   ContractTime  55745 non-null  object        \n",
      " 6   Category      55745 non-null  object        \n",
      " 7   Salary        55745 non-null  float64       \n",
      " 8   OpenDate      55745 non-null  datetime64[ns]\n",
      " 9   CloseDate     55745 non-null  datetime64[ns]\n",
      " 10  SourceName    55745 non-null  object        \n",
      "dtypes: datetime64[ns](2), float64(1), int64(1), object(7)\n",
      "memory usage: 4.7+ MB\n"
     ]
    }
   ],
   "source": [
    "merged_data.info()"
   ]
  },
  {
   "cell_type": "code",
   "execution_count": 76,
   "metadata": {},
   "outputs": [
    {
     "data": {
      "text/html": [
       "<div>\n",
       "<style scoped>\n",
       "    .dataframe tbody tr th:only-of-type {\n",
       "        vertical-align: middle;\n",
       "    }\n",
       "\n",
       "    .dataframe tbody tr th {\n",
       "        vertical-align: top;\n",
       "    }\n",
       "\n",
       "    .dataframe thead th {\n",
       "        text-align: right;\n",
       "    }\n",
       "</style>\n",
       "<table border=\"1\" class=\"dataframe\">\n",
       "  <thead>\n",
       "    <tr style=\"text-align: right;\">\n",
       "      <th></th>\n",
       "      <th>Id</th>\n",
       "      <th>Title</th>\n",
       "      <th>Location</th>\n",
       "      <th>Company</th>\n",
       "      <th>ContractType</th>\n",
       "      <th>ContractTime</th>\n",
       "      <th>Category</th>\n",
       "      <th>Salary</th>\n",
       "      <th>OpenDate</th>\n",
       "      <th>CloseDate</th>\n",
       "      <th>SourceName</th>\n",
       "    </tr>\n",
       "  </thead>\n",
       "  <tbody>\n",
       "  </tbody>\n",
       "</table>\n",
       "</div>"
      ],
      "text/plain": [
       "Empty DataFrame\n",
       "Columns: [Id, Title, Location, Company, ContractType, ContractTime, Category, Salary, OpenDate, CloseDate, SourceName]\n",
       "Index: []"
      ]
     },
     "execution_count": 76,
     "metadata": {},
     "output_type": "execute_result"
    }
   ],
   "source": [
    "# Identify rows where OpenDate > CloseDate\n",
    "inconsistent_dates = merged_data[merged_data['OpenDate'] > merged_data['CloseDate']]\n",
    "inconsistent_dates.head(10)"
   ]
  },
  {
   "cell_type": "markdown",
   "metadata": {},
   "source": [
    "***Inference***: Date columns is handled"
   ]
  },
  {
   "cell_type": "markdown",
   "metadata": {},
   "source": [
    "#### Finding global key for the data\n"
   ]
  },
  {
   "cell_type": "code",
   "execution_count": 75,
   "metadata": {},
   "outputs": [
    {
     "name": "stdout",
     "output_type": "stream",
     "text": [
      "Series([], Name: Id, dtype: int64)\n",
      "Is 'Id' column unique: True\n"
     ]
    }
   ],
   "source": [
    "# Code to identify global key\n",
    "# Check for duplicates based on the 'Id' column\n",
    "duplicate_ids = merged_data[merged_data.duplicated('Id', keep=False)]\n",
    "\n",
    "# Print the duplicate Ids and their occurrences\n",
    "print(duplicate_ids['Id'].value_counts())\n",
    "\n",
    "# Verify uniqueness of 'Id' column\n",
    "is_unique = merged_data['Id'].is_unique\n",
    "print(f\"Is 'Id' column unique: {is_unique}\")"
   ]
  },
  {
   "cell_type": "markdown",
   "metadata": {},
   "source": [
    "The `Id` column is chosen as the unique key for the final integrated job data due to its:\n",
    "\n",
    "* *Unique*: Each 'Id' is a unique identifier for job ads, assigned by the source, there by ensuring uniqueness.\n",
    "* *Consistent*: 'Id' is consistent across datasets which means we can track the job ads properly.\n",
    "* *Reliable*: Since Id a standardized identifier, 'Id' is stable across changes.\n",
    "* *Ease of Identification*: Numeric or alphanumeric 'Id' provide clear ad differentiation.\n",
    "* *Efficiency in Merging*: 'Id' simplifies merging, thereby reducing the risks of data loss or duplication."
   ]
  },
  {
   "cell_type": "markdown",
   "metadata": {},
   "source": [
    "### 5. Saving the integrated and reshaped data\n",
    "The last part of the integration process is to export our output data to csv format, named as:\n",
    "- '\\<student\\_id\\>_dataset_integrated.csv'"
   ]
  },
  {
   "cell_type": "code",
   "execution_count": 77,
   "metadata": {},
   "outputs": [],
   "source": [
    "# code to save output data\n",
    "merged_data.to_csv('s3952532_dataset_integrated.csv')"
   ]
  },
  {
   "cell_type": "markdown",
   "metadata": {},
   "source": [
    "## Summary of the Assessment Task\n",
    "In this task we have tried to merge two datasets.\n",
    "\n",
    "While merging two datasets, we need to keep in mind regarding the schema level mis matches and conflicts that might occur. Here the conflicts included dissimilar column names, difference in the order of columns, missing columns, inconsistent datatypes of columns etc. \n",
    "Before merging the datasets, we handled these inconsistencies.\n",
    "\n",
    "Once the dataset is merged, we further checked for data level conflicts which included duplicate rows and missing values.\n",
    "Later we identified a column (Id) which can identify all the columns uniquely and consistently.\n",
    "Finally we saved the merged dataframe.\n"
   ]
  }
 ],
 "metadata": {
  "kernelspec": {
   "display_name": "Python 3 (ipykernel)",
   "language": "python",
   "name": "python3"
  },
  "language_info": {
   "codemirror_mode": {
    "name": "ipython",
    "version": 3
   },
   "file_extension": ".py",
   "mimetype": "text/x-python",
   "name": "python",
   "nbconvert_exporter": "python",
   "pygments_lexer": "ipython3",
   "version": "3.9.13"
  },
  "varInspector": {
   "cols": {
    "lenName": 16,
    "lenType": 16,
    "lenVar": 40
   },
   "kernels_config": {
    "python": {
     "delete_cmd_postfix": "",
     "delete_cmd_prefix": "del ",
     "library": "var_list.py",
     "varRefreshCmd": "print(var_dic_list())"
    },
    "r": {
     "delete_cmd_postfix": ") ",
     "delete_cmd_prefix": "rm(",
     "library": "var_list.r",
     "varRefreshCmd": "cat(var_dic_list()) "
    }
   },
   "types_to_exclude": [
    "module",
    "function",
    "builtin_function_or_method",
    "instance",
    "_Feature"
   ],
   "window_display": false
  }
 },
 "nbformat": 4,
 "nbformat_minor": 1
}
